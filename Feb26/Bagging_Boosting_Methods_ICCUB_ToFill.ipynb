{
 "cells": [
  {
   "cell_type": "code",
   "execution_count": 1,
   "metadata": {},
   "outputs": [],
   "source": [
    "# This is a notebook to do some basic data exploration and \n",
    "# run some bagging/boosted methods \n",
    "# on a sample data set to distinguish between Lyman Alpha Emitting \n",
    "# Galaxies and OII Emitting Galaxies.\n",
    "\n",
    "# Author: Viviana Acquaviva\n",
    "\n",
    "# License: BSD but really should be TBD - just be nice."
   ]
  },
  {
   "cell_type": "markdown",
   "metadata": {},
   "source": [
    "### Bagging and Boosting Methods\n",
    "\n",
    "Random Forests and XGBoost!"
   ]
  },
  {
   "cell_type": "code",
   "execution_count": 2,
   "metadata": {},
   "outputs": [],
   "source": [
    "import pandas as pd\n",
    "import numpy as np\n",
    "import time\n",
    "from scipy import stats\n",
    "from sklearn.model_selection import train_test_split\n",
    "from sklearn.model_selection import cross_val_predict, cross_val_score\n",
    "from sklearn.model_selection import StratifiedKFold\n",
    "from sklearn.model_selection import GridSearchCV\n",
    "from sklearn import metrics \n",
    "import matplotlib.pyplot as plt\n",
    "from sklearn.ensemble import RandomForestClassifier, ExtraTreesClassifier, GradientBoostingClassifier\n",
    "from sklearn.preprocessing import LabelEncoder, RobustScaler, StandardScaler\n",
    "import warnings\n",
    "\n",
    "# Suppress warnings out of badness\n",
    "import warnings\n",
    "warnings.filterwarnings(\"ignore\", category=DeprecationWarning)\n",
    "warnings.filterwarnings(\"ignore\", category=RuntimeWarning) \n",
    "warnings.filterwarnings(\"ignore\", category=FutureWarning) "
   ]
  },
  {
   "cell_type": "code",
   "execution_count": 3,
   "metadata": {},
   "outputs": [],
   "source": [
    "# Helper function to make nice confusion matrices\n",
    "def plot_confusion_matrix(cm, classes,\n",
    "                          normalize=False,\n",
    "                          title='Confusion matrix',\n",
    "                          cmap=plt.cm.Blues):\n",
    "    \"\"\"\n",
    "    This function prints and plots the confusion matrix.\n",
    "    Normalization can be applied by setting `normalize=True`.\n",
    "    \"\"\"\n",
    "    if normalize:\n",
    "        cm = cm.astype('float') / cm.sum(axis=1)[:, np.newaxis]\n",
    "        print(\"Normalized confusion matrix\")\n",
    "    else:\n",
    "        print('Confusion matrix, without normalization')\n",
    "\n",
    "\n",
    "    plt.imshow(cm, interpolation='nearest', cmap=cmap)\n",
    "    plt.title(title)\n",
    "    plt.colorbar()\n",
    "    tick_marks = np.arange(len(classes))\n",
    "    plt.xticks(tick_marks, classes, rotation=45)\n",
    "    plt.yticks(tick_marks, classes)\n",
    "\n",
    "    fmt = '.2f' if normalize else 'd'\n",
    "    thresh = cm.max() / 2.\n",
    "    for i in range(cm.shape[0]):\n",
    "        for j in range(cm.shape[1]):\n",
    "            plt.text(j, i, format(cm[i, j], fmt),\n",
    "                 horizontalalignment=\"center\",\n",
    "                 color=\"white\" if cm[i, j] > thresh else \"black\")\n",
    "\n",
    "    plt.tight_layout()\n",
    "    plt.ylabel('True label')\n",
    "    plt.xlabel('Predicted label')"
   ]
  },
  {
   "cell_type": "markdown",
   "metadata": {},
   "source": [
    "### Data import"
   ]
  },
  {
   "cell_type": "markdown",
   "metadata": {},
   "source": [
    "Read the data in a data frame using pandas, take a look at them, check the size of the data set, rename columns to something easier to type."
   ]
  },
  {
   "cell_type": "code",
   "execution_count": 4,
   "metadata": {},
   "outputs": [],
   "source": [
    "# Read in the data file\n",
    "data = pd.read_csv('LAE_OII_ICCUB.txt', comment='#', sep='\\t')"
   ]
  },
  {
   "cell_type": "code",
   "execution_count": 5,
   "metadata": {},
   "outputs": [
    {
     "data": {
      "text/html": [
       "<div>\n",
       "<style scoped>\n",
       "    .dataframe tbody tr th:only-of-type {\n",
       "        vertical-align: middle;\n",
       "    }\n",
       "\n",
       "    .dataframe tbody tr th {\n",
       "        vertical-align: top;\n",
       "    }\n",
       "\n",
       "    .dataframe thead th {\n",
       "        text-align: right;\n",
       "    }\n",
       "</style>\n",
       "<table border=\"1\" class=\"dataframe\">\n",
       "  <thead>\n",
       "    <tr style=\"text-align: right;\">\n",
       "      <th></th>\n",
       "      <th>type</th>\n",
       "      <th>wavelength of EL (angstroms)</th>\n",
       "      <th>EL flux (erg/cm^2/s)</th>\n",
       "      <th>continuum flux density</th>\n",
       "      <th>EW observed</th>\n",
       "    </tr>\n",
       "  </thead>\n",
       "  <tbody>\n",
       "    <tr>\n",
       "      <th>0</th>\n",
       "      <td>LAE</td>\n",
       "      <td>4114.6</td>\n",
       "      <td>1.787900e-16</td>\n",
       "      <td>1.0146</td>\n",
       "      <td>99.516</td>\n",
       "    </tr>\n",
       "    <tr>\n",
       "      <th>1</th>\n",
       "      <td>LAE</td>\n",
       "      <td>3869.9</td>\n",
       "      <td>6.304500e-17</td>\n",
       "      <td>0.2145</td>\n",
       "      <td>146.820</td>\n",
       "    </tr>\n",
       "    <tr>\n",
       "      <th>2</th>\n",
       "      <td>LAE</td>\n",
       "      <td>3962.6</td>\n",
       "      <td>6.446300e-17</td>\n",
       "      <td>0.2983</td>\n",
       "      <td>113.190</td>\n",
       "    </tr>\n",
       "    <tr>\n",
       "      <th>3</th>\n",
       "      <td>LAE</td>\n",
       "      <td>3901.7</td>\n",
       "      <td>1.007500e-16</td>\n",
       "      <td>0.0211</td>\n",
       "      <td>2424.600</td>\n",
       "    </tr>\n",
       "    <tr>\n",
       "      <th>4</th>\n",
       "      <td>LAE</td>\n",
       "      <td>3954.3</td>\n",
       "      <td>7.311100e-17</td>\n",
       "      <td>1.0416</td>\n",
       "      <td>36.611</td>\n",
       "    </tr>\n",
       "  </tbody>\n",
       "</table>\n",
       "</div>"
      ],
      "text/plain": [
       "  type  wavelength of EL (angstroms)  EL flux (erg/cm^2/s)  \\\n",
       "0  LAE                        4114.6          1.787900e-16   \n",
       "1  LAE                        3869.9          6.304500e-17   \n",
       "2  LAE                        3962.6          6.446300e-17   \n",
       "3  LAE                        3901.7          1.007500e-16   \n",
       "4  LAE                        3954.3          7.311100e-17   \n",
       "\n",
       "   continuum flux density  EW observed  \n",
       "0                  1.0146       99.516  \n",
       "1                  0.2145      146.820  \n",
       "2                  0.2983      113.190  \n",
       "3                  0.0211     2424.600  \n",
       "4                  1.0416       36.611  "
      ]
     },
     "execution_count": 5,
     "metadata": {},
     "output_type": "execute_result"
    }
   ],
   "source": [
    "# Loop at the first few rows of the data base\n",
    "data.head()"
   ]
  },
  {
   "cell_type": "code",
   "execution_count": 6,
   "metadata": {},
   "outputs": [
    {
     "data": {
      "text/plain": [
       "(5436, 5)"
      ]
     },
     "execution_count": 6,
     "metadata": {},
     "output_type": "execute_result"
    }
   ],
   "source": [
    "# Look at the shape of the data\n",
    "data.shape"
   ]
  },
  {
   "cell_type": "code",
   "execution_count": 7,
   "metadata": {},
   "outputs": [],
   "source": [
    "# Rename the columns (there are horrid names)\n",
    "data.columns = ['type', 'wave', 'ELflux', 'contflux', 'EW']"
   ]
  },
  {
   "cell_type": "code",
   "execution_count": 8,
   "metadata": {
    "scrolled": true
   },
   "outputs": [
    {
     "data": {
      "text/html": [
       "<div>\n",
       "<style scoped>\n",
       "    .dataframe tbody tr th:only-of-type {\n",
       "        vertical-align: middle;\n",
       "    }\n",
       "\n",
       "    .dataframe tbody tr th {\n",
       "        vertical-align: top;\n",
       "    }\n",
       "\n",
       "    .dataframe thead th {\n",
       "        text-align: right;\n",
       "    }\n",
       "</style>\n",
       "<table border=\"1\" class=\"dataframe\">\n",
       "  <thead>\n",
       "    <tr style=\"text-align: right;\">\n",
       "      <th></th>\n",
       "      <th>type</th>\n",
       "      <th>wave</th>\n",
       "      <th>ELflux</th>\n",
       "      <th>contflux</th>\n",
       "      <th>EW</th>\n",
       "    </tr>\n",
       "  </thead>\n",
       "  <tbody>\n",
       "    <tr>\n",
       "      <th>0</th>\n",
       "      <td>LAE</td>\n",
       "      <td>4114.6</td>\n",
       "      <td>1.787900e-16</td>\n",
       "      <td>1.0146</td>\n",
       "      <td>99.516</td>\n",
       "    </tr>\n",
       "    <tr>\n",
       "      <th>1</th>\n",
       "      <td>LAE</td>\n",
       "      <td>3869.9</td>\n",
       "      <td>6.304500e-17</td>\n",
       "      <td>0.2145</td>\n",
       "      <td>146.820</td>\n",
       "    </tr>\n",
       "    <tr>\n",
       "      <th>2</th>\n",
       "      <td>LAE</td>\n",
       "      <td>3962.6</td>\n",
       "      <td>6.446300e-17</td>\n",
       "      <td>0.2983</td>\n",
       "      <td>113.190</td>\n",
       "    </tr>\n",
       "    <tr>\n",
       "      <th>3</th>\n",
       "      <td>LAE</td>\n",
       "      <td>3901.7</td>\n",
       "      <td>1.007500e-16</td>\n",
       "      <td>0.0211</td>\n",
       "      <td>2424.600</td>\n",
       "    </tr>\n",
       "    <tr>\n",
       "      <th>4</th>\n",
       "      <td>LAE</td>\n",
       "      <td>3954.3</td>\n",
       "      <td>7.311100e-17</td>\n",
       "      <td>1.0416</td>\n",
       "      <td>36.611</td>\n",
       "    </tr>\n",
       "  </tbody>\n",
       "</table>\n",
       "</div>"
      ],
      "text/plain": [
       "  type    wave        ELflux  contflux        EW\n",
       "0  LAE  4114.6  1.787900e-16    1.0146    99.516\n",
       "1  LAE  3869.9  6.304500e-17    0.2145   146.820\n",
       "2  LAE  3962.6  6.446300e-17    0.2983   113.190\n",
       "3  LAE  3901.7  1.007500e-16    0.0211  2424.600\n",
       "4  LAE  3954.3  7.311100e-17    1.0416    36.611"
      ]
     },
     "execution_count": 8,
     "metadata": {},
     "output_type": "execute_result"
    }
   ],
   "source": [
    "# Look at the first few rows again, now with new titles\n",
    "data.head()"
   ]
  },
  {
   "cell_type": "code",
   "execution_count": 9,
   "metadata": {},
   "outputs": [
    {
     "data": {
      "text/plain": [
       "array(['LAE', 'OII'], dtype=object)"
      ]
     },
     "execution_count": 9,
     "metadata": {},
     "output_type": "execute_result"
    }
   ],
   "source": [
    "# Pick out the unique entries of the 'type' column, demonstrating that there are only two types of object here\n",
    "np.unique(data.type)"
   ]
  },
  {
   "cell_type": "markdown",
   "metadata": {},
   "source": [
    "### Data exploration"
   ]
  },
  {
   "cell_type": "markdown",
   "metadata": {},
   "source": [
    "Look at data properties divided by type to figure out some differences between LAEs and OIIs. Change settings to visualize all the columns in a data frame. "
   ]
  },
  {
   "cell_type": "code",
   "execution_count": 10,
   "metadata": {},
   "outputs": [
    {
     "data": {
      "text/html": [
       "<div>\n",
       "<style scoped>\n",
       "    .dataframe tbody tr th:only-of-type {\n",
       "        vertical-align: middle;\n",
       "    }\n",
       "\n",
       "    .dataframe tbody tr th {\n",
       "        vertical-align: top;\n",
       "    }\n",
       "\n",
       "    .dataframe thead th {\n",
       "        text-align: right;\n",
       "    }\n",
       "</style>\n",
       "<table border=\"1\" class=\"dataframe\">\n",
       "  <thead>\n",
       "    <tr style=\"text-align: right;\">\n",
       "      <th></th>\n",
       "      <th>wave</th>\n",
       "      <th>ELflux</th>\n",
       "      <th>contflux</th>\n",
       "      <th>EW</th>\n",
       "    </tr>\n",
       "  </thead>\n",
       "  <tbody>\n",
       "    <tr>\n",
       "      <th>count</th>\n",
       "      <td>5436.00000</td>\n",
       "      <td>5.436000e+03</td>\n",
       "      <td>5436.000000</td>\n",
       "      <td>5436.000000</td>\n",
       "    </tr>\n",
       "    <tr>\n",
       "      <th>mean</th>\n",
       "      <td>4015.02660</td>\n",
       "      <td>2.449815e-16</td>\n",
       "      <td>68.686761</td>\n",
       "      <td>440.655398</td>\n",
       "    </tr>\n",
       "    <tr>\n",
       "      <th>std</th>\n",
       "      <td>112.44312</td>\n",
       "      <td>1.021284e-15</td>\n",
       "      <td>854.380290</td>\n",
       "      <td>3353.032457</td>\n",
       "    </tr>\n",
       "    <tr>\n",
       "      <th>min</th>\n",
       "      <td>3800.20000</td>\n",
       "      <td>4.276800e-17</td>\n",
       "      <td>-0.241100</td>\n",
       "      <td>0.008900</td>\n",
       "    </tr>\n",
       "    <tr>\n",
       "      <th>25%</th>\n",
       "      <td>3923.27500</td>\n",
       "      <td>5.849275e-17</td>\n",
       "      <td>0.208650</td>\n",
       "      <td>17.725000</td>\n",
       "    </tr>\n",
       "    <tr>\n",
       "      <th>50%</th>\n",
       "      <td>4018.35000</td>\n",
       "      <td>7.434850e-17</td>\n",
       "      <td>0.504750</td>\n",
       "      <td>80.634000</td>\n",
       "    </tr>\n",
       "    <tr>\n",
       "      <th>75%</th>\n",
       "      <td>4113.52500</td>\n",
       "      <td>1.123825e-16</td>\n",
       "      <td>2.763625</td>\n",
       "      <td>188.425000</td>\n",
       "    </tr>\n",
       "    <tr>\n",
       "      <th>max</th>\n",
       "      <td>4200.00000</td>\n",
       "      <td>3.426100e-14</td>\n",
       "      <td>41370.000000</td>\n",
       "      <td>157450.000000</td>\n",
       "    </tr>\n",
       "  </tbody>\n",
       "</table>\n",
       "</div>"
      ],
      "text/plain": [
       "             wave        ELflux      contflux             EW\n",
       "count  5436.00000  5.436000e+03   5436.000000    5436.000000\n",
       "mean   4015.02660  2.449815e-16     68.686761     440.655398\n",
       "std     112.44312  1.021284e-15    854.380290    3353.032457\n",
       "min    3800.20000  4.276800e-17     -0.241100       0.008900\n",
       "25%    3923.27500  5.849275e-17      0.208650      17.725000\n",
       "50%    4018.35000  7.434850e-17      0.504750      80.634000\n",
       "75%    4113.52500  1.123825e-16      2.763625     188.425000\n",
       "max    4200.00000  3.426100e-14  41370.000000  157450.000000"
      ]
     },
     "execution_count": 10,
     "metadata": {},
     "output_type": "execute_result"
    }
   ],
   "source": [
    "# Only analyses numerical columns\n",
    "data.describe() "
   ]
  },
  {
   "cell_type": "code",
   "execution_count": 11,
   "metadata": {},
   "outputs": [
    {
     "data": {
      "text/html": [
       "<div>\n",
       "<style scoped>\n",
       "    .dataframe tbody tr th:only-of-type {\n",
       "        vertical-align: middle;\n",
       "    }\n",
       "\n",
       "    .dataframe tbody tr th {\n",
       "        vertical-align: top;\n",
       "    }\n",
       "\n",
       "    .dataframe thead tr th {\n",
       "        text-align: left;\n",
       "    }\n",
       "\n",
       "    .dataframe thead tr:last-of-type th {\n",
       "        text-align: right;\n",
       "    }\n",
       "</style>\n",
       "<table border=\"1\" class=\"dataframe\">\n",
       "  <thead>\n",
       "    <tr>\n",
       "      <th></th>\n",
       "      <th colspan=\"8\" halign=\"left\">ELflux</th>\n",
       "      <th colspan=\"2\" halign=\"left\">EW</th>\n",
       "      <th>...</th>\n",
       "      <th colspan=\"2\" halign=\"left\">contflux</th>\n",
       "      <th colspan=\"8\" halign=\"left\">wave</th>\n",
       "    </tr>\n",
       "    <tr>\n",
       "      <th></th>\n",
       "      <th>count</th>\n",
       "      <th>mean</th>\n",
       "      <th>std</th>\n",
       "      <th>min</th>\n",
       "      <th>25%</th>\n",
       "      <th>50%</th>\n",
       "      <th>75%</th>\n",
       "      <th>max</th>\n",
       "      <th>count</th>\n",
       "      <th>mean</th>\n",
       "      <th>...</th>\n",
       "      <th>75%</th>\n",
       "      <th>max</th>\n",
       "      <th>count</th>\n",
       "      <th>mean</th>\n",
       "      <th>std</th>\n",
       "      <th>min</th>\n",
       "      <th>25%</th>\n",
       "      <th>50%</th>\n",
       "      <th>75%</th>\n",
       "      <th>max</th>\n",
       "    </tr>\n",
       "    <tr>\n",
       "      <th>type</th>\n",
       "      <th></th>\n",
       "      <th></th>\n",
       "      <th></th>\n",
       "      <th></th>\n",
       "      <th></th>\n",
       "      <th></th>\n",
       "      <th></th>\n",
       "      <th></th>\n",
       "      <th></th>\n",
       "      <th></th>\n",
       "      <th></th>\n",
       "      <th></th>\n",
       "      <th></th>\n",
       "      <th></th>\n",
       "      <th></th>\n",
       "      <th></th>\n",
       "      <th></th>\n",
       "      <th></th>\n",
       "      <th></th>\n",
       "      <th></th>\n",
       "      <th></th>\n",
       "    </tr>\n",
       "  </thead>\n",
       "  <tbody>\n",
       "    <tr>\n",
       "      <th>LAE</th>\n",
       "      <td>4415.0</td>\n",
       "      <td>8.005258e-17</td>\n",
       "      <td>3.630592e-17</td>\n",
       "      <td>4.276800e-17</td>\n",
       "      <td>5.655650e-17</td>\n",
       "      <td>6.891900e-17</td>\n",
       "      <td>9.028000e-17</td>\n",
       "      <td>4.380200e-16</td>\n",
       "      <td>4415.0</td>\n",
       "      <td>540.767356</td>\n",
       "      <td>...</td>\n",
       "      <td>0.8817</td>\n",
       "      <td>2669.9</td>\n",
       "      <td>4415.0</td>\n",
       "      <td>4003.127475</td>\n",
       "      <td>112.761281</td>\n",
       "      <td>3800.2</td>\n",
       "      <td>3908.35</td>\n",
       "      <td>3999.6</td>\n",
       "      <td>4103.1</td>\n",
       "      <td>4200.0</td>\n",
       "    </tr>\n",
       "    <tr>\n",
       "      <th>OII</th>\n",
       "      <td>1021.0</td>\n",
       "      <td>9.581660e-16</td>\n",
       "      <td>2.219254e-15</td>\n",
       "      <td>4.495600e-17</td>\n",
       "      <td>1.125200e-16</td>\n",
       "      <td>2.738200e-16</td>\n",
       "      <td>7.966100e-16</td>\n",
       "      <td>3.426100e-14</td>\n",
       "      <td>1021.0</td>\n",
       "      <td>7.752076</td>\n",
       "      <td>...</td>\n",
       "      <td>149.6100</td>\n",
       "      <td>41370.0</td>\n",
       "      <td>1021.0</td>\n",
       "      <td>4066.480705</td>\n",
       "      <td>95.303749</td>\n",
       "      <td>3826.2</td>\n",
       "      <td>3998.80</td>\n",
       "      <td>4085.8</td>\n",
       "      <td>4148.2</td>\n",
       "      <td>4199.8</td>\n",
       "    </tr>\n",
       "  </tbody>\n",
       "</table>\n",
       "<p>2 rows × 32 columns</p>\n",
       "</div>"
      ],
      "text/plain": [
       "      ELflux                                                          \\\n",
       "       count          mean           std           min           25%   \n",
       "type                                                                   \n",
       "LAE   4415.0  8.005258e-17  3.630592e-17  4.276800e-17  5.655650e-17   \n",
       "OII   1021.0  9.581660e-16  2.219254e-15  4.495600e-17  1.125200e-16   \n",
       "\n",
       "                                                    EW               ...    \\\n",
       "               50%           75%           max   count        mean   ...     \n",
       "type                                                                 ...     \n",
       "LAE   6.891900e-17  9.028000e-17  4.380200e-16  4415.0  540.767356   ...     \n",
       "OII   2.738200e-16  7.966100e-16  3.426100e-14  1021.0    7.752076   ...     \n",
       "\n",
       "      contflux             wave                                            \\\n",
       "           75%      max   count         mean         std     min      25%   \n",
       "type                                                                        \n",
       "LAE     0.8817   2669.9  4415.0  4003.127475  112.761281  3800.2  3908.35   \n",
       "OII   149.6100  41370.0  1021.0  4066.480705   95.303749  3826.2  3998.80   \n",
       "\n",
       "                              \n",
       "         50%     75%     max  \n",
       "type                          \n",
       "LAE   3999.6  4103.1  4200.0  \n",
       "OII   4085.8  4148.2  4199.8  \n",
       "\n",
       "[2 rows x 32 columns]"
      ]
     },
     "execution_count": 11,
     "metadata": {},
     "output_type": "execute_result"
    }
   ],
   "source": [
    "# Describe makes things like mean, standard deviations, etc., etc.\n",
    "data.groupby('type').describe()"
   ]
  },
  {
   "cell_type": "code",
   "execution_count": 12,
   "metadata": {},
   "outputs": [],
   "source": [
    "# See more columns\n",
    "pd.set_option('display.max_columns', 500) "
   ]
  },
  {
   "cell_type": "code",
   "execution_count": 13,
   "metadata": {},
   "outputs": [
    {
     "data": {
      "text/html": [
       "<div>\n",
       "<style scoped>\n",
       "    .dataframe tbody tr th:only-of-type {\n",
       "        vertical-align: middle;\n",
       "    }\n",
       "\n",
       "    .dataframe tbody tr th {\n",
       "        vertical-align: top;\n",
       "    }\n",
       "\n",
       "    .dataframe thead tr th {\n",
       "        text-align: left;\n",
       "    }\n",
       "\n",
       "    .dataframe thead tr:last-of-type th {\n",
       "        text-align: right;\n",
       "    }\n",
       "</style>\n",
       "<table border=\"1\" class=\"dataframe\">\n",
       "  <thead>\n",
       "    <tr>\n",
       "      <th></th>\n",
       "      <th colspan=\"8\" halign=\"left\">ELflux</th>\n",
       "      <th colspan=\"8\" halign=\"left\">EW</th>\n",
       "      <th colspan=\"8\" halign=\"left\">contflux</th>\n",
       "      <th colspan=\"8\" halign=\"left\">wave</th>\n",
       "    </tr>\n",
       "    <tr>\n",
       "      <th></th>\n",
       "      <th>count</th>\n",
       "      <th>mean</th>\n",
       "      <th>std</th>\n",
       "      <th>min</th>\n",
       "      <th>25%</th>\n",
       "      <th>50%</th>\n",
       "      <th>75%</th>\n",
       "      <th>max</th>\n",
       "      <th>count</th>\n",
       "      <th>mean</th>\n",
       "      <th>std</th>\n",
       "      <th>min</th>\n",
       "      <th>25%</th>\n",
       "      <th>50%</th>\n",
       "      <th>75%</th>\n",
       "      <th>max</th>\n",
       "      <th>count</th>\n",
       "      <th>mean</th>\n",
       "      <th>std</th>\n",
       "      <th>min</th>\n",
       "      <th>25%</th>\n",
       "      <th>50%</th>\n",
       "      <th>75%</th>\n",
       "      <th>max</th>\n",
       "      <th>count</th>\n",
       "      <th>mean</th>\n",
       "      <th>std</th>\n",
       "      <th>min</th>\n",
       "      <th>25%</th>\n",
       "      <th>50%</th>\n",
       "      <th>75%</th>\n",
       "      <th>max</th>\n",
       "    </tr>\n",
       "    <tr>\n",
       "      <th>type</th>\n",
       "      <th></th>\n",
       "      <th></th>\n",
       "      <th></th>\n",
       "      <th></th>\n",
       "      <th></th>\n",
       "      <th></th>\n",
       "      <th></th>\n",
       "      <th></th>\n",
       "      <th></th>\n",
       "      <th></th>\n",
       "      <th></th>\n",
       "      <th></th>\n",
       "      <th></th>\n",
       "      <th></th>\n",
       "      <th></th>\n",
       "      <th></th>\n",
       "      <th></th>\n",
       "      <th></th>\n",
       "      <th></th>\n",
       "      <th></th>\n",
       "      <th></th>\n",
       "      <th></th>\n",
       "      <th></th>\n",
       "      <th></th>\n",
       "      <th></th>\n",
       "      <th></th>\n",
       "      <th></th>\n",
       "      <th></th>\n",
       "      <th></th>\n",
       "      <th></th>\n",
       "      <th></th>\n",
       "      <th></th>\n",
       "    </tr>\n",
       "  </thead>\n",
       "  <tbody>\n",
       "    <tr>\n",
       "      <th>LAE</th>\n",
       "      <td>4415.0</td>\n",
       "      <td>8.005258e-17</td>\n",
       "      <td>3.630592e-17</td>\n",
       "      <td>4.276800e-17</td>\n",
       "      <td>5.655650e-17</td>\n",
       "      <td>6.891900e-17</td>\n",
       "      <td>9.028000e-17</td>\n",
       "      <td>4.380200e-16</td>\n",
       "      <td>4415.0</td>\n",
       "      <td>540.767356</td>\n",
       "      <td>3713.490362</td>\n",
       "      <td>0.0304</td>\n",
       "      <td>48.295</td>\n",
       "      <td>111.1700</td>\n",
       "      <td>219.205</td>\n",
       "      <td>157450.000</td>\n",
       "      <td>4415.0</td>\n",
       "      <td>3.095571</td>\n",
       "      <td>58.841667</td>\n",
       "      <td>-0.2411</td>\n",
       "      <td>0.1744</td>\n",
       "      <td>0.3545</td>\n",
       "      <td>0.8817</td>\n",
       "      <td>2669.9</td>\n",
       "      <td>4415.0</td>\n",
       "      <td>4003.127475</td>\n",
       "      <td>112.761281</td>\n",
       "      <td>3800.2</td>\n",
       "      <td>3908.35</td>\n",
       "      <td>3999.6</td>\n",
       "      <td>4103.1</td>\n",
       "      <td>4200.0</td>\n",
       "    </tr>\n",
       "    <tr>\n",
       "      <th>OII</th>\n",
       "      <td>1021.0</td>\n",
       "      <td>9.581660e-16</td>\n",
       "      <td>2.219254e-15</td>\n",
       "      <td>4.495600e-17</td>\n",
       "      <td>1.125200e-16</td>\n",
       "      <td>2.738200e-16</td>\n",
       "      <td>7.966100e-16</td>\n",
       "      <td>3.426100e-14</td>\n",
       "      <td>1021.0</td>\n",
       "      <td>7.752076</td>\n",
       "      <td>8.049062</td>\n",
       "      <td>0.0089</td>\n",
       "      <td>2.110</td>\n",
       "      <td>5.1784</td>\n",
       "      <td>10.639</td>\n",
       "      <td>69.723</td>\n",
       "      <td>1021.0</td>\n",
       "      <td>352.315656</td>\n",
       "      <td>1943.049897</td>\n",
       "      <td>0.6176</td>\n",
       "      <td>11.0200</td>\n",
       "      <td>35.0440</td>\n",
       "      <td>149.6100</td>\n",
       "      <td>41370.0</td>\n",
       "      <td>1021.0</td>\n",
       "      <td>4066.480705</td>\n",
       "      <td>95.303749</td>\n",
       "      <td>3826.2</td>\n",
       "      <td>3998.80</td>\n",
       "      <td>4085.8</td>\n",
       "      <td>4148.2</td>\n",
       "      <td>4199.8</td>\n",
       "    </tr>\n",
       "  </tbody>\n",
       "</table>\n",
       "</div>"
      ],
      "text/plain": [
       "      ELflux                                                          \\\n",
       "       count          mean           std           min           25%   \n",
       "type                                                                   \n",
       "LAE   4415.0  8.005258e-17  3.630592e-17  4.276800e-17  5.655650e-17   \n",
       "OII   1021.0  9.581660e-16  2.219254e-15  4.495600e-17  1.125200e-16   \n",
       "\n",
       "                                                    EW              \\\n",
       "               50%           75%           max   count        mean   \n",
       "type                                                                 \n",
       "LAE   6.891900e-17  9.028000e-17  4.380200e-16  4415.0  540.767356   \n",
       "OII   2.738200e-16  7.966100e-16  3.426100e-14  1021.0    7.752076   \n",
       "\n",
       "                                                                 contflux  \\\n",
       "              std     min     25%       50%      75%         max    count   \n",
       "type                                                                        \n",
       "LAE   3713.490362  0.0304  48.295  111.1700  219.205  157450.000   4415.0   \n",
       "OII      8.049062  0.0089   2.110    5.1784   10.639      69.723   1021.0   \n",
       "\n",
       "                                                                            \\\n",
       "            mean          std     min      25%      50%       75%      max   \n",
       "type                                                                         \n",
       "LAE     3.095571    58.841667 -0.2411   0.1744   0.3545    0.8817   2669.9   \n",
       "OII   352.315656  1943.049897  0.6176  11.0200  35.0440  149.6100  41370.0   \n",
       "\n",
       "        wave                                                                    \n",
       "       count         mean         std     min      25%     50%     75%     max  \n",
       "type                                                                            \n",
       "LAE   4415.0  4003.127475  112.761281  3800.2  3908.35  3999.6  4103.1  4200.0  \n",
       "OII   1021.0  4066.480705   95.303749  3826.2  3998.80  4085.8  4148.2  4199.8  "
      ]
     },
     "execution_count": 13,
     "metadata": {},
     "output_type": "execute_result"
    }
   ],
   "source": [
    "# Describe again\n",
    "data.groupby('type').describe()"
   ]
  },
  {
   "cell_type": "code",
   "execution_count": 14,
   "metadata": {},
   "outputs": [
    {
     "data": {
      "text/html": [
       "<div>\n",
       "<style scoped>\n",
       "    .dataframe tbody tr th:only-of-type {\n",
       "        vertical-align: middle;\n",
       "    }\n",
       "\n",
       "    .dataframe tbody tr th {\n",
       "        vertical-align: top;\n",
       "    }\n",
       "\n",
       "    .dataframe thead tr th {\n",
       "        text-align: left;\n",
       "    }\n",
       "\n",
       "    .dataframe thead tr:last-of-type th {\n",
       "        text-align: right;\n",
       "    }\n",
       "</style>\n",
       "<table border=\"1\" class=\"dataframe\">\n",
       "  <thead>\n",
       "    <tr>\n",
       "      <th></th>\n",
       "      <th colspan=\"6\" halign=\"left\">ELflux</th>\n",
       "      <th colspan=\"6\" halign=\"left\">EW</th>\n",
       "      <th colspan=\"6\" halign=\"left\">contflux</th>\n",
       "      <th colspan=\"6\" halign=\"left\">wave</th>\n",
       "    </tr>\n",
       "    <tr>\n",
       "      <th></th>\n",
       "      <th>count</th>\n",
       "      <th>mean</th>\n",
       "      <th>std</th>\n",
       "      <th>min</th>\n",
       "      <th>50%</th>\n",
       "      <th>max</th>\n",
       "      <th>count</th>\n",
       "      <th>mean</th>\n",
       "      <th>std</th>\n",
       "      <th>min</th>\n",
       "      <th>50%</th>\n",
       "      <th>max</th>\n",
       "      <th>count</th>\n",
       "      <th>mean</th>\n",
       "      <th>std</th>\n",
       "      <th>min</th>\n",
       "      <th>50%</th>\n",
       "      <th>max</th>\n",
       "      <th>count</th>\n",
       "      <th>mean</th>\n",
       "      <th>std</th>\n",
       "      <th>min</th>\n",
       "      <th>50%</th>\n",
       "      <th>max</th>\n",
       "    </tr>\n",
       "    <tr>\n",
       "      <th>type</th>\n",
       "      <th></th>\n",
       "      <th></th>\n",
       "      <th></th>\n",
       "      <th></th>\n",
       "      <th></th>\n",
       "      <th></th>\n",
       "      <th></th>\n",
       "      <th></th>\n",
       "      <th></th>\n",
       "      <th></th>\n",
       "      <th></th>\n",
       "      <th></th>\n",
       "      <th></th>\n",
       "      <th></th>\n",
       "      <th></th>\n",
       "      <th></th>\n",
       "      <th></th>\n",
       "      <th></th>\n",
       "      <th></th>\n",
       "      <th></th>\n",
       "      <th></th>\n",
       "      <th></th>\n",
       "      <th></th>\n",
       "      <th></th>\n",
       "    </tr>\n",
       "  </thead>\n",
       "  <tbody>\n",
       "    <tr>\n",
       "      <th>LAE</th>\n",
       "      <td>4415.0</td>\n",
       "      <td>8.005258e-17</td>\n",
       "      <td>3.630592e-17</td>\n",
       "      <td>4.276800e-17</td>\n",
       "      <td>6.891900e-17</td>\n",
       "      <td>4.380200e-16</td>\n",
       "      <td>4415.0</td>\n",
       "      <td>540.767356</td>\n",
       "      <td>3713.490362</td>\n",
       "      <td>0.0304</td>\n",
       "      <td>111.1700</td>\n",
       "      <td>157450.000</td>\n",
       "      <td>4415.0</td>\n",
       "      <td>3.095571</td>\n",
       "      <td>58.841667</td>\n",
       "      <td>-0.2411</td>\n",
       "      <td>0.3545</td>\n",
       "      <td>2669.9</td>\n",
       "      <td>4415.0</td>\n",
       "      <td>4003.127475</td>\n",
       "      <td>112.761281</td>\n",
       "      <td>3800.2</td>\n",
       "      <td>3999.6</td>\n",
       "      <td>4200.0</td>\n",
       "    </tr>\n",
       "    <tr>\n",
       "      <th>OII</th>\n",
       "      <td>1021.0</td>\n",
       "      <td>9.581660e-16</td>\n",
       "      <td>2.219254e-15</td>\n",
       "      <td>4.495600e-17</td>\n",
       "      <td>2.738200e-16</td>\n",
       "      <td>3.426100e-14</td>\n",
       "      <td>1021.0</td>\n",
       "      <td>7.752076</td>\n",
       "      <td>8.049062</td>\n",
       "      <td>0.0089</td>\n",
       "      <td>5.1784</td>\n",
       "      <td>69.723</td>\n",
       "      <td>1021.0</td>\n",
       "      <td>352.315656</td>\n",
       "      <td>1943.049897</td>\n",
       "      <td>0.6176</td>\n",
       "      <td>35.0440</td>\n",
       "      <td>41370.0</td>\n",
       "      <td>1021.0</td>\n",
       "      <td>4066.480705</td>\n",
       "      <td>95.303749</td>\n",
       "      <td>3826.2</td>\n",
       "      <td>4085.8</td>\n",
       "      <td>4199.8</td>\n",
       "    </tr>\n",
       "  </tbody>\n",
       "</table>\n",
       "</div>"
      ],
      "text/plain": [
       "      ELflux                                                          \\\n",
       "       count          mean           std           min           50%   \n",
       "type                                                                   \n",
       "LAE   4415.0  8.005258e-17  3.630592e-17  4.276800e-17  6.891900e-17   \n",
       "OII   1021.0  9.581660e-16  2.219254e-15  4.495600e-17  2.738200e-16   \n",
       "\n",
       "                        EW                                             \\\n",
       "               max   count        mean          std     min       50%   \n",
       "type                                                                    \n",
       "LAE   4.380200e-16  4415.0  540.767356  3713.490362  0.0304  111.1700   \n",
       "OII   3.426100e-14  1021.0    7.752076     8.049062  0.0089    5.1784   \n",
       "\n",
       "                 contflux                                                     \\\n",
       "             max    count        mean          std     min      50%      max   \n",
       "type                                                                           \n",
       "LAE   157450.000   4415.0    3.095571    58.841667 -0.2411   0.3545   2669.9   \n",
       "OII       69.723   1021.0  352.315656  1943.049897  0.6176  35.0440  41370.0   \n",
       "\n",
       "        wave                                                   \n",
       "       count         mean         std     min     50%     max  \n",
       "type                                                           \n",
       "LAE   4415.0  4003.127475  112.761281  3800.2  3999.6  4200.0  \n",
       "OII   1021.0  4066.480705   95.303749  3826.2  4085.8  4199.8  "
      ]
     },
     "execution_count": 14,
     "metadata": {},
     "output_type": "execute_result"
    }
   ],
   "source": [
    "# Remove the percentiles\n",
    "data.groupby('type').describe(percentiles=[])"
   ]
  },
  {
   "cell_type": "markdown",
   "metadata": {},
   "source": [
    "Plot some interesting property for the two classes"
   ]
  },
  {
   "cell_type": "code",
   "execution_count": 15,
   "metadata": {},
   "outputs": [
    {
     "data": {
      "image/png": "[encoded data removed]",
      "text/plain": [
       "<Figure size 432x288 with 1 Axes>"
      ]
     },
     "metadata": {
      "needs_background": "light"
     },
     "output_type": "display_data"
    }
   ],
   "source": [
    "# Plot some histograms\n",
    "plt.hist(data[data.type == 'LAE']['ELflux'], bins = 20, alpha = 0.5, label = 'LAE', range=(0,1e-15), density=True);\n",
    "plt.hist(data[data.type == 'OII']['ELflux'], bins = 20, alpha = 0.5, label = 'OII', range=(0,1e-15), density=True);\n",
    "plt.legend();"
   ]
  },
  {
   "cell_type": "markdown",
   "metadata": {},
   "source": [
    "Look for / eliminate outliers of chosen significance"
   ]
  },
  {
   "cell_type": "code",
   "execution_count": 16,
   "metadata": {},
   "outputs": [],
   "source": [
    "# Some sort of sigma clipping\n",
    "seldata = data[(np.abs(stats.zscore(data.drop(['type'], axis=1))) < 4. ).all(axis=1)] # fill"
   ]
  },
  {
   "cell_type": "code",
   "execution_count": 17,
   "metadata": {},
   "outputs": [
    {
     "name": "stdout",
     "output_type": "stream",
     "text": [
      "Original shape: (5436, 5)\n",
      "Selected shape: (5372, 5)\n",
      "Number of deleted: 64\n"
     ]
    }
   ],
   "source": [
    "# See how many objects have been deleted\n",
    "print('Original shape:', data.shape)\n",
    "print('Selected shape:', seldata.shape)\n",
    "print('Number of deleted:', data.shape[0]-seldata.shape[0])"
   ]
  },
  {
   "cell_type": "markdown",
   "metadata": {},
   "source": [
    "Take another look at new data"
   ]
  },
  {
   "cell_type": "code",
   "execution_count": 18,
   "metadata": {},
   "outputs": [
    {
     "data": {
      "text/html": [
       "<div>\n",
       "<style scoped>\n",
       "    .dataframe tbody tr th:only-of-type {\n",
       "        vertical-align: middle;\n",
       "    }\n",
       "\n",
       "    .dataframe tbody tr th {\n",
       "        vertical-align: top;\n",
       "    }\n",
       "\n",
       "    .dataframe thead tr th {\n",
       "        text-align: left;\n",
       "    }\n",
       "\n",
       "    .dataframe thead tr:last-of-type th {\n",
       "        text-align: right;\n",
       "    }\n",
       "</style>\n",
       "<table border=\"1\" class=\"dataframe\">\n",
       "  <thead>\n",
       "    <tr>\n",
       "      <th></th>\n",
       "      <th colspan=\"6\" halign=\"left\">ELflux</th>\n",
       "      <th colspan=\"6\" halign=\"left\">EW</th>\n",
       "      <th colspan=\"6\" halign=\"left\">contflux</th>\n",
       "      <th colspan=\"6\" halign=\"left\">wave</th>\n",
       "    </tr>\n",
       "    <tr>\n",
       "      <th></th>\n",
       "      <th>count</th>\n",
       "      <th>mean</th>\n",
       "      <th>std</th>\n",
       "      <th>min</th>\n",
       "      <th>50%</th>\n",
       "      <th>max</th>\n",
       "      <th>count</th>\n",
       "      <th>mean</th>\n",
       "      <th>std</th>\n",
       "      <th>min</th>\n",
       "      <th>50%</th>\n",
       "      <th>max</th>\n",
       "      <th>count</th>\n",
       "      <th>mean</th>\n",
       "      <th>std</th>\n",
       "      <th>min</th>\n",
       "      <th>50%</th>\n",
       "      <th>max</th>\n",
       "      <th>count</th>\n",
       "      <th>mean</th>\n",
       "      <th>std</th>\n",
       "      <th>min</th>\n",
       "      <th>50%</th>\n",
       "      <th>max</th>\n",
       "    </tr>\n",
       "    <tr>\n",
       "      <th>type</th>\n",
       "      <th></th>\n",
       "      <th></th>\n",
       "      <th></th>\n",
       "      <th></th>\n",
       "      <th></th>\n",
       "      <th></th>\n",
       "      <th></th>\n",
       "      <th></th>\n",
       "      <th></th>\n",
       "      <th></th>\n",
       "      <th></th>\n",
       "      <th></th>\n",
       "      <th></th>\n",
       "      <th></th>\n",
       "      <th></th>\n",
       "      <th></th>\n",
       "      <th></th>\n",
       "      <th></th>\n",
       "      <th></th>\n",
       "      <th></th>\n",
       "      <th></th>\n",
       "      <th></th>\n",
       "      <th></th>\n",
       "      <th></th>\n",
       "    </tr>\n",
       "  </thead>\n",
       "  <tbody>\n",
       "    <tr>\n",
       "      <th>LAE</th>\n",
       "      <td>4408.0</td>\n",
       "      <td>8.007443e-17</td>\n",
       "      <td>3.632968e-17</td>\n",
       "      <td>4.276800e-17</td>\n",
       "      <td>6.892650e-17</td>\n",
       "      <td>4.380200e-16</td>\n",
       "      <td>4408.0</td>\n",
       "      <td>421.610226</td>\n",
       "      <td>1528.146124</td>\n",
       "      <td>0.0304</td>\n",
       "      <td>111.0350</td>\n",
       "      <td>13448.000</td>\n",
       "      <td>4408.0</td>\n",
       "      <td>3.100486</td>\n",
       "      <td>58.888250</td>\n",
       "      <td>-0.2411</td>\n",
       "      <td>0.3551</td>\n",
       "      <td>2669.9</td>\n",
       "      <td>4408.0</td>\n",
       "      <td>4003.113022</td>\n",
       "      <td>112.755916</td>\n",
       "      <td>3800.2</td>\n",
       "      <td>3999.55</td>\n",
       "      <td>4200.0</td>\n",
       "    </tr>\n",
       "    <tr>\n",
       "      <th>OII</th>\n",
       "      <td>964.0</td>\n",
       "      <td>5.955074e-16</td>\n",
       "      <td>8.420538e-16</td>\n",
       "      <td>4.495600e-17</td>\n",
       "      <td>2.503300e-16</td>\n",
       "      <td>4.220100e-15</td>\n",
       "      <td>964.0</td>\n",
       "      <td>7.874112</td>\n",
       "      <td>8.091065</td>\n",
       "      <td>0.0394</td>\n",
       "      <td>5.4424</td>\n",
       "      <td>69.723</td>\n",
       "      <td>964.0</td>\n",
       "      <td>136.253722</td>\n",
       "      <td>305.958507</td>\n",
       "      <td>0.6176</td>\n",
       "      <td>31.5420</td>\n",
       "      <td>3019.5</td>\n",
       "      <td>964.0</td>\n",
       "      <td>4070.097510</td>\n",
       "      <td>93.028416</td>\n",
       "      <td>3826.2</td>\n",
       "      <td>4089.00</td>\n",
       "      <td>4199.8</td>\n",
       "    </tr>\n",
       "  </tbody>\n",
       "</table>\n",
       "</div>"
      ],
      "text/plain": [
       "      ELflux                                                          \\\n",
       "       count          mean           std           min           50%   \n",
       "type                                                                   \n",
       "LAE   4408.0  8.007443e-17  3.632968e-17  4.276800e-17  6.892650e-17   \n",
       "OII    964.0  5.955074e-16  8.420538e-16  4.495600e-17  2.503300e-16   \n",
       "\n",
       "                        EW                                             \\\n",
       "               max   count        mean          std     min       50%   \n",
       "type                                                                    \n",
       "LAE   4.380200e-16  4408.0  421.610226  1528.146124  0.0304  111.0350   \n",
       "OII   4.220100e-15   964.0    7.874112     8.091065  0.0394    5.4424   \n",
       "\n",
       "                contflux                                                   \\\n",
       "            max    count        mean         std     min      50%     max   \n",
       "type                                                                        \n",
       "LAE   13448.000   4408.0    3.100486   58.888250 -0.2411   0.3551  2669.9   \n",
       "OII      69.723    964.0  136.253722  305.958507  0.6176  31.5420  3019.5   \n",
       "\n",
       "        wave                                                    \n",
       "       count         mean         std     min      50%     max  \n",
       "type                                                            \n",
       "LAE   4408.0  4003.113022  112.755916  3800.2  3999.55  4200.0  \n",
       "OII    964.0  4070.097510   93.028416  3826.2  4089.00  4199.8  "
      ]
     },
     "execution_count": 18,
     "metadata": {},
     "output_type": "execute_result"
    }
   ],
   "source": [
    "# Look at the clipped data to see if properties have changed\n",
    "seldata.groupby('type').describe(percentiles = [])"
   ]
  },
  {
   "cell_type": "markdown",
   "metadata": {},
   "source": [
    "### Transform pandas data frame into a numpy array that can be fed to sklearn methods, create feature and target arrays, and standardize (not necessary for tree-based)."
   ]
  },
  {
   "cell_type": "code",
   "execution_count": 19,
   "metadata": {},
   "outputs": [],
   "source": [
    "# Not quite sure what a label encoder is\n",
    "le = LabelEncoder()"
   ]
  },
  {
   "cell_type": "code",
   "execution_count": 20,
   "metadata": {},
   "outputs": [],
   "source": [
    "# Transform label into array of 0, 1, ...\n",
    "newcol = le.fit_transform(seldata['type'])"
   ]
  },
  {
   "cell_type": "code",
   "execution_count": 21,
   "metadata": {},
   "outputs": [
    {
     "data": {
      "text/plain": [
       "array([0, 0, 0, ..., 1, 0, 0])"
      ]
     },
     "execution_count": 21,
     "metadata": {},
     "output_type": "execute_result"
    }
   ],
   "source": [
    "newcol"
   ]
  },
  {
   "cell_type": "code",
   "execution_count": 22,
   "metadata": {},
   "outputs": [
    {
     "name": "stderr",
     "output_type": "stream",
     "text": [
      "/usr/local/lib/python3.7/site-packages/pandas/core/indexing.py:543: SettingWithCopyWarning: \n",
      "A value is trying to be set on a copy of a slice from a DataFrame.\n",
      "Try using .loc[row_indexer,col_indexer] = value instead\n",
      "\n",
      "See the caveats in the documentation: http://pandas.pydata.org/pandas-docs/stable/indexing.html#indexing-view-versus-copy\n",
      "  self.obj[item] = s\n"
     ]
    }
   ],
   "source": [
    "# Note: this assigns the positive '1' (OII) and negative '0' (LAE) class! \n",
    "# Need to check and if necessary, flip.\n",
    "seldata.ix[:,'type'] = newcol"
   ]
  },
  {
   "cell_type": "code",
   "execution_count": 23,
   "metadata": {},
   "outputs": [
    {
     "data": {
      "text/html": [
       "<div>\n",
       "<style scoped>\n",
       "    .dataframe tbody tr th:only-of-type {\n",
       "        vertical-align: middle;\n",
       "    }\n",
       "\n",
       "    .dataframe tbody tr th {\n",
       "        vertical-align: top;\n",
       "    }\n",
       "\n",
       "    .dataframe thead th {\n",
       "        text-align: right;\n",
       "    }\n",
       "</style>\n",
       "<table border=\"1\" class=\"dataframe\">\n",
       "  <thead>\n",
       "    <tr style=\"text-align: right;\">\n",
       "      <th></th>\n",
       "      <th>type</th>\n",
       "      <th>wave</th>\n",
       "      <th>ELflux</th>\n",
       "      <th>contflux</th>\n",
       "      <th>EW</th>\n",
       "    </tr>\n",
       "  </thead>\n",
       "  <tbody>\n",
       "    <tr>\n",
       "      <th>0</th>\n",
       "      <td>0</td>\n",
       "      <td>4114.6</td>\n",
       "      <td>1.787900e-16</td>\n",
       "      <td>1.0146</td>\n",
       "      <td>99.516</td>\n",
       "    </tr>\n",
       "    <tr>\n",
       "      <th>1</th>\n",
       "      <td>0</td>\n",
       "      <td>3869.9</td>\n",
       "      <td>6.304500e-17</td>\n",
       "      <td>0.2145</td>\n",
       "      <td>146.820</td>\n",
       "    </tr>\n",
       "    <tr>\n",
       "      <th>2</th>\n",
       "      <td>0</td>\n",
       "      <td>3962.6</td>\n",
       "      <td>6.446300e-17</td>\n",
       "      <td>0.2983</td>\n",
       "      <td>113.190</td>\n",
       "    </tr>\n",
       "    <tr>\n",
       "      <th>3</th>\n",
       "      <td>0</td>\n",
       "      <td>3901.7</td>\n",
       "      <td>1.007500e-16</td>\n",
       "      <td>0.0211</td>\n",
       "      <td>2424.600</td>\n",
       "    </tr>\n",
       "    <tr>\n",
       "      <th>4</th>\n",
       "      <td>0</td>\n",
       "      <td>3954.3</td>\n",
       "      <td>7.311100e-17</td>\n",
       "      <td>1.0416</td>\n",
       "      <td>36.611</td>\n",
       "    </tr>\n",
       "  </tbody>\n",
       "</table>\n",
       "</div>"
      ],
      "text/plain": [
       "   type    wave        ELflux  contflux        EW\n",
       "0     0  4114.6  1.787900e-16    1.0146    99.516\n",
       "1     0  3869.9  6.304500e-17    0.2145   146.820\n",
       "2     0  3962.6  6.446300e-17    0.2983   113.190\n",
       "3     0  3901.7  1.007500e-16    0.0211  2424.600\n",
       "4     0  3954.3  7.311100e-17    1.0416    36.611"
      ]
     },
     "execution_count": 23,
     "metadata": {},
     "output_type": "execute_result"
    }
   ],
   "source": [
    "seldata.head()"
   ]
  },
  {
   "cell_type": "markdown",
   "metadata": {},
   "source": [
    "Arrange data in feature matrix and target vector"
   ]
  },
  {
   "cell_type": "code",
   "execution_count": 24,
   "metadata": {},
   "outputs": [],
   "source": [
    "# Here X are the features, which is everything except the 'type', which is the label\n",
    "X, y = seldata.drop(['type'], axis=1), seldata['type']"
   ]
  },
  {
   "cell_type": "code",
   "execution_count": 25,
   "metadata": {},
   "outputs": [
    {
     "data": {
      "text/html": [
       "<div>\n",
       "<style scoped>\n",
       "    .dataframe tbody tr th:only-of-type {\n",
       "        vertical-align: middle;\n",
       "    }\n",
       "\n",
       "    .dataframe tbody tr th {\n",
       "        vertical-align: top;\n",
       "    }\n",
       "\n",
       "    .dataframe thead th {\n",
       "        text-align: right;\n",
       "    }\n",
       "</style>\n",
       "<table border=\"1\" class=\"dataframe\">\n",
       "  <thead>\n",
       "    <tr style=\"text-align: right;\">\n",
       "      <th></th>\n",
       "      <th>wave</th>\n",
       "      <th>ELflux</th>\n",
       "      <th>contflux</th>\n",
       "      <th>EW</th>\n",
       "    </tr>\n",
       "  </thead>\n",
       "  <tbody>\n",
       "    <tr>\n",
       "      <th>0</th>\n",
       "      <td>4114.6</td>\n",
       "      <td>1.787900e-16</td>\n",
       "      <td>1.0146</td>\n",
       "      <td>99.5160</td>\n",
       "    </tr>\n",
       "    <tr>\n",
       "      <th>1</th>\n",
       "      <td>3869.9</td>\n",
       "      <td>6.304500e-17</td>\n",
       "      <td>0.2145</td>\n",
       "      <td>146.8200</td>\n",
       "    </tr>\n",
       "    <tr>\n",
       "      <th>2</th>\n",
       "      <td>3962.6</td>\n",
       "      <td>6.446300e-17</td>\n",
       "      <td>0.2983</td>\n",
       "      <td>113.1900</td>\n",
       "    </tr>\n",
       "    <tr>\n",
       "      <th>3</th>\n",
       "      <td>3901.7</td>\n",
       "      <td>1.007500e-16</td>\n",
       "      <td>0.0211</td>\n",
       "      <td>2424.6000</td>\n",
       "    </tr>\n",
       "    <tr>\n",
       "      <th>4</th>\n",
       "      <td>3954.3</td>\n",
       "      <td>7.311100e-17</td>\n",
       "      <td>1.0416</td>\n",
       "      <td>36.6110</td>\n",
       "    </tr>\n",
       "    <tr>\n",
       "      <th>5</th>\n",
       "      <td>3896.6</td>\n",
       "      <td>5.990100e-16</td>\n",
       "      <td>18.7050</td>\n",
       "      <td>16.2200</td>\n",
       "    </tr>\n",
       "    <tr>\n",
       "      <th>6</th>\n",
       "      <td>4108.6</td>\n",
       "      <td>1.456500e-15</td>\n",
       "      <td>284.1400</td>\n",
       "      <td>2.8862</td>\n",
       "    </tr>\n",
       "    <tr>\n",
       "      <th>7</th>\n",
       "      <td>4098.2</td>\n",
       "      <td>2.862100e-15</td>\n",
       "      <td>205.8200</td>\n",
       "      <td>7.7904</td>\n",
       "    </tr>\n",
       "    <tr>\n",
       "      <th>8</th>\n",
       "      <td>4079.0</td>\n",
       "      <td>1.019300e-16</td>\n",
       "      <td>1.7645</td>\n",
       "      <td>32.0610</td>\n",
       "    </tr>\n",
       "    <tr>\n",
       "      <th>9</th>\n",
       "      <td>3900.4</td>\n",
       "      <td>8.694700e-17</td>\n",
       "      <td>1.2852</td>\n",
       "      <td>34.3300</td>\n",
       "    </tr>\n",
       "    <tr>\n",
       "      <th>10</th>\n",
       "      <td>3850.3</td>\n",
       "      <td>1.492100e-16</td>\n",
       "      <td>10.0580</td>\n",
       "      <td>7.3358</td>\n",
       "    </tr>\n",
       "    <tr>\n",
       "      <th>11</th>\n",
       "      <td>4078.7</td>\n",
       "      <td>5.521000e-17</td>\n",
       "      <td>0.2762</td>\n",
       "      <td>110.9200</td>\n",
       "    </tr>\n",
       "    <tr>\n",
       "      <th>12</th>\n",
       "      <td>4189.0</td>\n",
       "      <td>4.772500e-17</td>\n",
       "      <td>0.2376</td>\n",
       "      <td>117.5700</td>\n",
       "    </tr>\n",
       "    <tr>\n",
       "      <th>13</th>\n",
       "      <td>4043.9</td>\n",
       "      <td>7.296100e-17</td>\n",
       "      <td>0.2425</td>\n",
       "      <td>164.1200</td>\n",
       "    </tr>\n",
       "    <tr>\n",
       "      <th>14</th>\n",
       "      <td>3946.8</td>\n",
       "      <td>6.707400e-17</td>\n",
       "      <td>0.5384</td>\n",
       "      <td>64.7330</td>\n",
       "    </tr>\n",
       "    <tr>\n",
       "      <th>15</th>\n",
       "      <td>4018.8</td>\n",
       "      <td>5.061900e-17</td>\n",
       "      <td>2.1919</td>\n",
       "      <td>12.4410</td>\n",
       "    </tr>\n",
       "    <tr>\n",
       "      <th>16</th>\n",
       "      <td>4032.3</td>\n",
       "      <td>4.901900e-17</td>\n",
       "      <td>0.0790</td>\n",
       "      <td>336.5200</td>\n",
       "    </tr>\n",
       "    <tr>\n",
       "      <th>17</th>\n",
       "      <td>3972.3</td>\n",
       "      <td>6.318700e-17</td>\n",
       "      <td>1.7831</td>\n",
       "      <td>18.6520</td>\n",
       "    </tr>\n",
       "    <tr>\n",
       "      <th>18</th>\n",
       "      <td>4084.2</td>\n",
       "      <td>1.029600e-16</td>\n",
       "      <td>1.1588</td>\n",
       "      <td>49.4380</td>\n",
       "    </tr>\n",
       "    <tr>\n",
       "      <th>19</th>\n",
       "      <td>3823.4</td>\n",
       "      <td>6.891900e-17</td>\n",
       "      <td>0.5728</td>\n",
       "      <td>58.6690</td>\n",
       "    </tr>\n",
       "    <tr>\n",
       "      <th>20</th>\n",
       "      <td>4136.1</td>\n",
       "      <td>4.605600e-17</td>\n",
       "      <td>0.1106</td>\n",
       "      <td>237.6300</td>\n",
       "    </tr>\n",
       "    <tr>\n",
       "      <th>21</th>\n",
       "      <td>4034.5</td>\n",
       "      <td>3.186800e-16</td>\n",
       "      <td>2.1743</td>\n",
       "      <td>79.5790</td>\n",
       "    </tr>\n",
       "    <tr>\n",
       "      <th>22</th>\n",
       "      <td>4170.0</td>\n",
       "      <td>6.708100e-17</td>\n",
       "      <td>0.6858</td>\n",
       "      <td>56.7340</td>\n",
       "    </tr>\n",
       "    <tr>\n",
       "      <th>23</th>\n",
       "      <td>4189.2</td>\n",
       "      <td>4.874700e-17</td>\n",
       "      <td>0.0904</td>\n",
       "      <td>315.6600</td>\n",
       "    </tr>\n",
       "    <tr>\n",
       "      <th>24</th>\n",
       "      <td>3981.2</td>\n",
       "      <td>5.121300e-17</td>\n",
       "      <td>0.2539</td>\n",
       "      <td>106.6400</td>\n",
       "    </tr>\n",
       "    <tr>\n",
       "      <th>25</th>\n",
       "      <td>4022.6</td>\n",
       "      <td>5.112800e-17</td>\n",
       "      <td>0.4867</td>\n",
       "      <td>56.7000</td>\n",
       "    </tr>\n",
       "    <tr>\n",
       "      <th>26</th>\n",
       "      <td>4094.5</td>\n",
       "      <td>6.253300e-17</td>\n",
       "      <td>0.1557</td>\n",
       "      <td>224.6000</td>\n",
       "    </tr>\n",
       "    <tr>\n",
       "      <th>27</th>\n",
       "      <td>4175.0</td>\n",
       "      <td>5.547700e-17</td>\n",
       "      <td>0.1981</td>\n",
       "      <td>162.8300</td>\n",
       "    </tr>\n",
       "    <tr>\n",
       "      <th>28</th>\n",
       "      <td>4103.0</td>\n",
       "      <td>4.736300e-17</td>\n",
       "      <td>0.1351</td>\n",
       "      <td>196.8600</td>\n",
       "    </tr>\n",
       "    <tr>\n",
       "      <th>29</th>\n",
       "      <td>4136.1</td>\n",
       "      <td>6.081100e-17</td>\n",
       "      <td>0.4253</td>\n",
       "      <td>81.5920</td>\n",
       "    </tr>\n",
       "    <tr>\n",
       "      <th>...</th>\n",
       "      <td>...</td>\n",
       "      <td>...</td>\n",
       "      <td>...</td>\n",
       "      <td>...</td>\n",
       "    </tr>\n",
       "    <tr>\n",
       "      <th>5406</th>\n",
       "      <td>4105.0</td>\n",
       "      <td>4.936500e-17</td>\n",
       "      <td>0.3407</td>\n",
       "      <td>81.4410</td>\n",
       "    </tr>\n",
       "    <tr>\n",
       "      <th>5407</th>\n",
       "      <td>3896.7</td>\n",
       "      <td>7.009800e-17</td>\n",
       "      <td>0.4997</td>\n",
       "      <td>71.0520</td>\n",
       "    </tr>\n",
       "    <tr>\n",
       "      <th>5408</th>\n",
       "      <td>3843.5</td>\n",
       "      <td>1.373600e-16</td>\n",
       "      <td>0.3806</td>\n",
       "      <td>177.8400</td>\n",
       "    </tr>\n",
       "    <tr>\n",
       "      <th>5409</th>\n",
       "      <td>3887.2</td>\n",
       "      <td>5.153400e-17</td>\n",
       "      <td>1.6826</td>\n",
       "      <td>15.4370</td>\n",
       "    </tr>\n",
       "    <tr>\n",
       "      <th>5410</th>\n",
       "      <td>3967.3</td>\n",
       "      <td>5.680200e-17</td>\n",
       "      <td>11.1750</td>\n",
       "      <td>2.6688</td>\n",
       "    </tr>\n",
       "    <tr>\n",
       "      <th>5411</th>\n",
       "      <td>4018.4</td>\n",
       "      <td>5.415700e-17</td>\n",
       "      <td>0.8258</td>\n",
       "      <td>35.3240</td>\n",
       "    </tr>\n",
       "    <tr>\n",
       "      <th>5412</th>\n",
       "      <td>4146.8</td>\n",
       "      <td>4.966200e-17</td>\n",
       "      <td>0.5211</td>\n",
       "      <td>54.6650</td>\n",
       "    </tr>\n",
       "    <tr>\n",
       "      <th>5413</th>\n",
       "      <td>4187.9</td>\n",
       "      <td>9.293900e-17</td>\n",
       "      <td>0.2335</td>\n",
       "      <td>232.8600</td>\n",
       "    </tr>\n",
       "    <tr>\n",
       "      <th>5414</th>\n",
       "      <td>4146.9</td>\n",
       "      <td>1.470100e-16</td>\n",
       "      <td>1.4795</td>\n",
       "      <td>56.9970</td>\n",
       "    </tr>\n",
       "    <tr>\n",
       "      <th>5415</th>\n",
       "      <td>4015.7</td>\n",
       "      <td>6.017200e-17</td>\n",
       "      <td>0.1330</td>\n",
       "      <td>243.3600</td>\n",
       "    </tr>\n",
       "    <tr>\n",
       "      <th>5416</th>\n",
       "      <td>3978.5</td>\n",
       "      <td>1.762500e-15</td>\n",
       "      <td>1897.4000</td>\n",
       "      <td>0.4904</td>\n",
       "    </tr>\n",
       "    <tr>\n",
       "      <th>5417</th>\n",
       "      <td>4107.2</td>\n",
       "      <td>4.684900e-17</td>\n",
       "      <td>4.3242</td>\n",
       "      <td>6.0964</td>\n",
       "    </tr>\n",
       "    <tr>\n",
       "      <th>5418</th>\n",
       "      <td>3878.2</td>\n",
       "      <td>5.799600e-17</td>\n",
       "      <td>0.2097</td>\n",
       "      <td>138.7500</td>\n",
       "    </tr>\n",
       "    <tr>\n",
       "      <th>5419</th>\n",
       "      <td>3869.7</td>\n",
       "      <td>6.951100e-17</td>\n",
       "      <td>0.6678</td>\n",
       "      <td>51.9930</td>\n",
       "    </tr>\n",
       "    <tr>\n",
       "      <th>5420</th>\n",
       "      <td>3858.3</td>\n",
       "      <td>6.826700e-17</td>\n",
       "      <td>0.5225</td>\n",
       "      <td>64.8770</td>\n",
       "    </tr>\n",
       "    <tr>\n",
       "      <th>5421</th>\n",
       "      <td>3857.1</td>\n",
       "      <td>1.154500e-16</td>\n",
       "      <td>0.2333</td>\n",
       "      <td>245.5800</td>\n",
       "    </tr>\n",
       "    <tr>\n",
       "      <th>5422</th>\n",
       "      <td>4110.7</td>\n",
       "      <td>6.597700e-17</td>\n",
       "      <td>0.4399</td>\n",
       "      <td>84.5350</td>\n",
       "    </tr>\n",
       "    <tr>\n",
       "      <th>5423</th>\n",
       "      <td>4053.9</td>\n",
       "      <td>5.354400e-17</td>\n",
       "      <td>2.1974</td>\n",
       "      <td>13.3580</td>\n",
       "    </tr>\n",
       "    <tr>\n",
       "      <th>5424</th>\n",
       "      <td>4066.4</td>\n",
       "      <td>9.140900e-17</td>\n",
       "      <td>0.1427</td>\n",
       "      <td>353.3200</td>\n",
       "    </tr>\n",
       "    <tr>\n",
       "      <th>5425</th>\n",
       "      <td>4173.2</td>\n",
       "      <td>7.573800e-17</td>\n",
       "      <td>0.1504</td>\n",
       "      <td>292.5300</td>\n",
       "    </tr>\n",
       "    <tr>\n",
       "      <th>5426</th>\n",
       "      <td>3912.9</td>\n",
       "      <td>1.425700e-16</td>\n",
       "      <td>0.3022</td>\n",
       "      <td>240.9400</td>\n",
       "    </tr>\n",
       "    <tr>\n",
       "      <th>5427</th>\n",
       "      <td>4076.2</td>\n",
       "      <td>9.316900e-17</td>\n",
       "      <td>0.1486</td>\n",
       "      <td>347.4800</td>\n",
       "    </tr>\n",
       "    <tr>\n",
       "      <th>5428</th>\n",
       "      <td>4084.3</td>\n",
       "      <td>1.491600e-16</td>\n",
       "      <td>1.7091</td>\n",
       "      <td>48.5620</td>\n",
       "    </tr>\n",
       "    <tr>\n",
       "      <th>5429</th>\n",
       "      <td>4190.5</td>\n",
       "      <td>1.204700e-16</td>\n",
       "      <td>150.6400</td>\n",
       "      <td>0.4684</td>\n",
       "    </tr>\n",
       "    <tr>\n",
       "      <th>5430</th>\n",
       "      <td>3996.2</td>\n",
       "      <td>2.032800e-16</td>\n",
       "      <td>0.4872</td>\n",
       "      <td>222.2600</td>\n",
       "    </tr>\n",
       "    <tr>\n",
       "      <th>5431</th>\n",
       "      <td>4111.4</td>\n",
       "      <td>3.253500e-16</td>\n",
       "      <td>57.8050</td>\n",
       "      <td>3.1736</td>\n",
       "    </tr>\n",
       "    <tr>\n",
       "      <th>5432</th>\n",
       "      <td>3852.6</td>\n",
       "      <td>1.113900e-16</td>\n",
       "      <td>0.7407</td>\n",
       "      <td>74.4530</td>\n",
       "    </tr>\n",
       "    <tr>\n",
       "      <th>5433</th>\n",
       "      <td>4187.5</td>\n",
       "      <td>9.931600e-16</td>\n",
       "      <td>124.7100</td>\n",
       "      <td>4.6581</td>\n",
       "    </tr>\n",
       "    <tr>\n",
       "      <th>5434</th>\n",
       "      <td>3841.8</td>\n",
       "      <td>1.190700e-16</td>\n",
       "      <td>1.7287</td>\n",
       "      <td>33.9100</td>\n",
       "    </tr>\n",
       "    <tr>\n",
       "      <th>5435</th>\n",
       "      <td>4081.4</td>\n",
       "      <td>7.338600e-17</td>\n",
       "      <td>1.1131</td>\n",
       "      <td>36.6330</td>\n",
       "    </tr>\n",
       "  </tbody>\n",
       "</table>\n",
       "<p>5372 rows × 4 columns</p>\n",
       "</div>"
      ],
      "text/plain": [
       "        wave        ELflux   contflux         EW\n",
       "0     4114.6  1.787900e-16     1.0146    99.5160\n",
       "1     3869.9  6.304500e-17     0.2145   146.8200\n",
       "2     3962.6  6.446300e-17     0.2983   113.1900\n",
       "3     3901.7  1.007500e-16     0.0211  2424.6000\n",
       "4     3954.3  7.311100e-17     1.0416    36.6110\n",
       "5     3896.6  5.990100e-16    18.7050    16.2200\n",
       "6     4108.6  1.456500e-15   284.1400     2.8862\n",
       "7     4098.2  2.862100e-15   205.8200     7.7904\n",
       "8     4079.0  1.019300e-16     1.7645    32.0610\n",
       "9     3900.4  8.694700e-17     1.2852    34.3300\n",
       "10    3850.3  1.492100e-16    10.0580     7.3358\n",
       "11    4078.7  5.521000e-17     0.2762   110.9200\n",
       "12    4189.0  4.772500e-17     0.2376   117.5700\n",
       "13    4043.9  7.296100e-17     0.2425   164.1200\n",
       "14    3946.8  6.707400e-17     0.5384    64.7330\n",
       "15    4018.8  5.061900e-17     2.1919    12.4410\n",
       "16    4032.3  4.901900e-17     0.0790   336.5200\n",
       "17    3972.3  6.318700e-17     1.7831    18.6520\n",
       "18    4084.2  1.029600e-16     1.1588    49.4380\n",
       "19    3823.4  6.891900e-17     0.5728    58.6690\n",
       "20    4136.1  4.605600e-17     0.1106   237.6300\n",
       "21    4034.5  3.186800e-16     2.1743    79.5790\n",
       "22    4170.0  6.708100e-17     0.6858    56.7340\n",
       "23    4189.2  4.874700e-17     0.0904   315.6600\n",
       "24    3981.2  5.121300e-17     0.2539   106.6400\n",
       "25    4022.6  5.112800e-17     0.4867    56.7000\n",
       "26    4094.5  6.253300e-17     0.1557   224.6000\n",
       "27    4175.0  5.547700e-17     0.1981   162.8300\n",
       "28    4103.0  4.736300e-17     0.1351   196.8600\n",
       "29    4136.1  6.081100e-17     0.4253    81.5920\n",
       "...      ...           ...        ...        ...\n",
       "5406  4105.0  4.936500e-17     0.3407    81.4410\n",
       "5407  3896.7  7.009800e-17     0.4997    71.0520\n",
       "5408  3843.5  1.373600e-16     0.3806   177.8400\n",
       "5409  3887.2  5.153400e-17     1.6826    15.4370\n",
       "5410  3967.3  5.680200e-17    11.1750     2.6688\n",
       "5411  4018.4  5.415700e-17     0.8258    35.3240\n",
       "5412  4146.8  4.966200e-17     0.5211    54.6650\n",
       "5413  4187.9  9.293900e-17     0.2335   232.8600\n",
       "5414  4146.9  1.470100e-16     1.4795    56.9970\n",
       "5415  4015.7  6.017200e-17     0.1330   243.3600\n",
       "5416  3978.5  1.762500e-15  1897.4000     0.4904\n",
       "5417  4107.2  4.684900e-17     4.3242     6.0964\n",
       "5418  3878.2  5.799600e-17     0.2097   138.7500\n",
       "5419  3869.7  6.951100e-17     0.6678    51.9930\n",
       "5420  3858.3  6.826700e-17     0.5225    64.8770\n",
       "5421  3857.1  1.154500e-16     0.2333   245.5800\n",
       "5422  4110.7  6.597700e-17     0.4399    84.5350\n",
       "5423  4053.9  5.354400e-17     2.1974    13.3580\n",
       "5424  4066.4  9.140900e-17     0.1427   353.3200\n",
       "5425  4173.2  7.573800e-17     0.1504   292.5300\n",
       "5426  3912.9  1.425700e-16     0.3022   240.9400\n",
       "5427  4076.2  9.316900e-17     0.1486   347.4800\n",
       "5428  4084.3  1.491600e-16     1.7091    48.5620\n",
       "5429  4190.5  1.204700e-16   150.6400     0.4684\n",
       "5430  3996.2  2.032800e-16     0.4872   222.2600\n",
       "5431  4111.4  3.253500e-16    57.8050     3.1736\n",
       "5432  3852.6  1.113900e-16     0.7407    74.4530\n",
       "5433  4187.5  9.931600e-16   124.7100     4.6581\n",
       "5434  3841.8  1.190700e-16     1.7287    33.9100\n",
       "5435  4081.4  7.338600e-17     1.1131    36.6330\n",
       "\n",
       "[5372 rows x 4 columns]"
      ]
     },
     "execution_count": 25,
     "metadata": {},
     "output_type": "execute_result"
    }
   ],
   "source": [
    "# Write out X again just to check what it looks like\n",
    "X"
   ]
  },
  {
   "cell_type": "code",
   "execution_count": 26,
   "metadata": {},
   "outputs": [],
   "source": [
    "# Force the features to be mean 0 with std 1 (generally a good idea)\n",
    "normalized_X = (X - X.mean())/X.std()"
   ]
  },
  {
   "cell_type": "code",
   "execution_count": 27,
   "metadata": {},
   "outputs": [
    {
     "data": {
      "text/html": [
       "<div>\n",
       "<style scoped>\n",
       "    .dataframe tbody tr th:only-of-type {\n",
       "        vertical-align: middle;\n",
       "    }\n",
       "\n",
       "    .dataframe tbody tr th {\n",
       "        vertical-align: top;\n",
       "    }\n",
       "\n",
       "    .dataframe thead th {\n",
       "        text-align: right;\n",
       "    }\n",
       "</style>\n",
       "<table border=\"1\" class=\"dataframe\">\n",
       "  <thead>\n",
       "    <tr style=\"text-align: right;\">\n",
       "      <th></th>\n",
       "      <th>wave</th>\n",
       "      <th>ELflux</th>\n",
       "      <th>contflux</th>\n",
       "      <th>EW</th>\n",
       "    </tr>\n",
       "  </thead>\n",
       "  <tbody>\n",
       "    <tr>\n",
       "      <th>count</th>\n",
       "      <td>5.372000e+03</td>\n",
       "      <td>5.372000e+03</td>\n",
       "      <td>5.372000e+03</td>\n",
       "      <td>5.372000e+03</td>\n",
       "    </tr>\n",
       "    <tr>\n",
       "      <th>mean</th>\n",
       "      <td>1.874698e-14</td>\n",
       "      <td>1.066079e-15</td>\n",
       "      <td>-4.814549e-16</td>\n",
       "      <td>-4.364838e-17</td>\n",
       "    </tr>\n",
       "    <tr>\n",
       "      <th>std</th>\n",
       "      <td>1.000000e+00</td>\n",
       "      <td>1.000000e+00</td>\n",
       "      <td>1.000000e+00</td>\n",
       "      <td>1.000000e+00</td>\n",
       "    </tr>\n",
       "    <tr>\n",
       "      <th>min</th>\n",
       "      <td>-1.911408e+00</td>\n",
       "      <td>-3.173040e-01</td>\n",
       "      <td>-1.826279e-01</td>\n",
       "      <td>-2.492874e-01</td>\n",
       "    </tr>\n",
       "    <tr>\n",
       "      <th>25%</th>\n",
       "      <td>-8.142309e-01</td>\n",
       "      <td>-2.792533e-01</td>\n",
       "      <td>-1.796220e-01</td>\n",
       "      <td>-2.355986e-01</td>\n",
       "    </tr>\n",
       "    <tr>\n",
       "      <th>50%</th>\n",
       "      <td>2.860602e-02</td>\n",
       "      <td>-2.409875e-01</td>\n",
       "      <td>-1.776826e-01</td>\n",
       "      <td>-1.905622e-01</td>\n",
       "    </tr>\n",
       "    <tr>\n",
       "      <th>75%</th>\n",
       "      <td>8.765564e-01</td>\n",
       "      <td>-1.513078e-01</td>\n",
       "      <td>-1.640867e-01</td>\n",
       "      <td>-1.135303e-01</td>\n",
       "    </tr>\n",
       "    <tr>\n",
       "      <th>max</th>\n",
       "      <td>1.644025e+00</td>\n",
       "      <td>9.894410e+00</td>\n",
       "      <td>2.006605e+01</td>\n",
       "      <td>9.402510e+00</td>\n",
       "    </tr>\n",
       "  </tbody>\n",
       "</table>\n",
       "</div>"
      ],
      "text/plain": [
       "               wave        ELflux      contflux            EW\n",
       "count  5.372000e+03  5.372000e+03  5.372000e+03  5.372000e+03\n",
       "mean   1.874698e-14  1.066079e-15 -4.814549e-16 -4.364838e-17\n",
       "std    1.000000e+00  1.000000e+00  1.000000e+00  1.000000e+00\n",
       "min   -1.911408e+00 -3.173040e-01 -1.826279e-01 -2.492874e-01\n",
       "25%   -8.142309e-01 -2.792533e-01 -1.796220e-01 -2.355986e-01\n",
       "50%    2.860602e-02 -2.409875e-01 -1.776826e-01 -1.905622e-01\n",
       "75%    8.765564e-01 -1.513078e-01 -1.640867e-01 -1.135303e-01\n",
       "max    1.644025e+00  9.894410e+00  2.006605e+01  9.402510e+00"
      ]
     },
     "execution_count": 27,
     "metadata": {},
     "output_type": "execute_result"
    }
   ],
   "source": [
    "# Check that the normalisation has worked\n",
    "normalized_X.describe()"
   ]
  },
  {
   "cell_type": "code",
   "execution_count": 28,
   "metadata": {},
   "outputs": [
    {
     "data": {
      "text/plain": [
       "array([[ 0.88464251,  0.01521053, -0.17422407, -0.17790178],\n",
       "       [-1.29168452, -0.26776072, -0.17958958, -0.14394787],\n",
       "       [-0.46722389, -0.26429402, -0.17902762, -0.16808685],\n",
       "       ...,\n",
       "       [ 1.53300475,  2.00616736,  0.65528449, -0.24598897],\n",
       "       [-1.54160192, -0.13079183, -0.16943527, -0.22499252],\n",
       "       [ 0.58936643, -0.24247923, -0.17356352, -0.223038  ]])"
      ]
     },
     "execution_count": 28,
     "metadata": {},
     "output_type": "execute_result"
    }
   ],
   "source": [
    "# What does this do?\n",
    "scaler = StandardScaler()\n",
    "scaler.fit_transform(X)"
   ]
  },
  {
   "cell_type": "markdown",
   "metadata": {},
   "source": [
    "Use standard scaler, robust scaler"
   ]
  },
  {
   "cell_type": "markdown",
   "metadata": {},
   "source": [
    "## Ensemble Method 1: Random Forests\n",
    "\n",
    "Let's start with a RF Classifier with standard parameters, using cross_val_score and cross_val_predict."
   ]
  },
  {
   "cell_type": "code",
   "execution_count": 29,
   "metadata": {},
   "outputs": [],
   "source": [
    "# Setup the model\n",
    "model = RandomForestClassifier()"
   ]
  },
  {
   "cell_type": "code",
   "execution_count": 30,
   "metadata": {},
   "outputs": [],
   "source": [
    "# Cross-validation scheme\n",
    "cv = StratifiedKFold(shuffle=True, n_splits=10, random_state=7)"
   ]
  },
  {
   "cell_type": "code",
   "execution_count": 31,
   "metadata": {},
   "outputs": [],
   "source": [
    "# Choose scoring system\n",
    "scores = cross_val_score(model, normalized_X, y, cv=cv, scoring='recall')"
   ]
  },
  {
   "cell_type": "code",
   "execution_count": 32,
   "metadata": {},
   "outputs": [
    {
     "data": {
      "text/plain": [
       "(0.8381335910652921, 0.03604077483537535)"
      ]
     },
     "execution_count": 32,
     "metadata": {},
     "output_type": "execute_result"
    }
   ],
   "source": [
    "# Print the scores, the mean and standard deviation across all splits\n",
    "scores.mean(), scores.std()"
   ]
  },
  {
   "cell_type": "code",
   "execution_count": 33,
   "metadata": {},
   "outputs": [],
   "source": [
    "# Try other scoring params?\n",
    "scores = cross_val_score(model, normalized_X, y, cv=cv, scoring='accuracy')"
   ]
  },
  {
   "cell_type": "code",
   "execution_count": 34,
   "metadata": {},
   "outputs": [
    {
     "data": {
      "text/plain": [
       "(0.9475057631201844, 0.008717055083468471)"
      ]
     },
     "execution_count": 34,
     "metadata": {},
     "output_type": "execute_result"
    }
   ],
   "source": [
    "# Print the scores\n",
    "scores.mean(), scores.std()"
   ]
  },
  {
   "cell_type": "code",
   "execution_count": 35,
   "metadata": {},
   "outputs": [],
   "source": [
    "# Try other scoring params?\n",
    "scores = cross_val_score(model, normalized_X, y, cv=cv, scoring='precision')"
   ]
  },
  {
   "cell_type": "code",
   "execution_count": 36,
   "metadata": {},
   "outputs": [
    {
     "data": {
      "text/plain": [
       "(0.854547574762765, 0.029066054748051864)"
      ]
     },
     "execution_count": 36,
     "metadata": {},
     "output_type": "execute_result"
    }
   ],
   "source": [
    "# Print the scores\n",
    "scores.mean(), scores.std()"
   ]
  },
  {
   "cell_type": "code",
   "execution_count": 37,
   "metadata": {},
   "outputs": [],
   "source": [
    "# Build one realization of predictions with cross_val_predict\n",
    "ypred = cross_val_predict(model, normalized_X, y, cv=cv)"
   ]
  },
  {
   "cell_type": "code",
   "execution_count": 38,
   "metadata": {},
   "outputs": [
    {
     "name": "stdout",
     "output_type": "stream",
     "text": [
      "Confusion matrix, without normalization\n"
     ]
    },
    {
     "data": {
      "image/png": "[encoded data removed]",
      "text/plain": [
       "<Figure size 432x288 with 2 Axes>"
      ]
     },
     "metadata": {
      "needs_background": "light"
     },
     "output_type": "display_data"
    }
   ],
   "source": [
    "# Visualize and plot the confusion matrix.\n",
    "cm = metrics.confusion_matrix(y, ypred)\n",
    "plot_confusion_matrix(cm, classes = ['LAE','OII'])"
   ]
  },
  {
   "cell_type": "markdown",
   "metadata": {},
   "source": [
    "### We can look at the ROC/AUC by using the \"predict_proba\" feature."
   ]
  },
  {
   "cell_type": "code",
   "execution_count": 39,
   "metadata": {},
   "outputs": [
    {
     "data": {
      "image/png": "[encoded data removed]",
      "text/plain": [
       "<Figure size 432x288 with 1 Axes>"
      ]
     },
     "metadata": {
      "needs_background": "light"
     },
     "output_type": "display_data"
    }
   ],
   "source": [
    "#I need to call \"fit\" explicitly to do this, so I am defining a train/test split\n",
    "\n",
    "#Inspired by https://scikit-learn.org/stable/auto_examples/model_selection/plot_roc_crossval.html\n",
    "\n",
    "Xtrain, Xtest, ytrain, ytest = train_test_split(normalized_X, y, random_state=5)\n",
    "\n",
    "probas = model.fit(Xtrain, ytrain).predict_proba(Xtest) #doing only on one fold\n",
    "\n",
    "# Compute ROC curve and area under the curve\n",
    "\n",
    "fpr, tpr, thresholds = metrics.roc_curve(ytest, probas[:, 1])\n",
    "\n",
    "roc_auc = metrics.auc(fpr, tpr)\n",
    "\n",
    "plt.plot(fpr, tpr, lw=2, label = 'AUC = %0.2f' % roc_auc)\n",
    "plt.xlabel('FPR')\n",
    "plt.ylabel('TPR')\n",
    "\n",
    "plt.legend();"
   ]
  },
  {
   "cell_type": "markdown",
   "metadata": {},
   "source": [
    "Question: What's not kosher about the above?\n",
    "\n",
    "Only one split, one should average this over all kfolds"
   ]
  },
  {
   "cell_type": "markdown",
   "metadata": {},
   "source": [
    "### Feature ranking"
   ]
  },
  {
   "cell_type": "markdown",
   "metadata": {},
   "source": [
    "After the model has been fit, it will have the attribute \"feature\\_importances\\_\". We can look at the feature importance using the following code:"
   ]
  },
  {
   "cell_type": "code",
   "execution_count": 40,
   "metadata": {},
   "outputs": [
    {
     "data": {
      "text/plain": [
       "array([0.0925462 , 0.21032439, 0.44058147, 0.25654794])"
      ]
     },
     "execution_count": 40,
     "metadata": {},
     "output_type": "execute_result"
    }
   ],
   "source": [
    "# note: this is not doing any train/test split, but fitting the entire data set \n",
    "model.fit(normalized_X,y) \n",
    "model.feature_importances_"
   ]
  },
  {
   "cell_type": "markdown",
   "metadata": {},
   "source": [
    "The code below plots the feature importances."
   ]
  },
  {
   "cell_type": "code",
   "execution_count": 41,
   "metadata": {},
   "outputs": [
    {
     "name": "stdout",
     "output_type": "stream",
     "text": [
      "Feature ranking:\n",
      "1. feature: contflux, 2 (0.440581)\n",
      "2. feature: EW, 3 (0.256548)\n",
      "3. feature: ELflux, 1 (0.210324)\n",
      "4. feature: wave, 0 (0.092546)\n"
     ]
    },
    {
     "data": {
      "image/png": "[encoded data removed]",
      "text/plain": [
       "<Figure size 1152x432 with 1 Axes>"
      ]
     },
     "metadata": {
      "needs_background": "light"
     },
     "output_type": "display_data"
    }
   ],
   "source": [
    "importances = model.feature_importances_\n",
    "indices = np.argsort(importances)[::-1]\n",
    "\n",
    "# Print the feature ranking\n",
    "print(\"Feature ranking:\")\n",
    "\n",
    "for f in range(normalized_X.shape[1]):\n",
    "    print(\"%d. feature: %s, %d (%f)\" % (f + 1, normalized_X.columns[indices[f]], indices[f], importances[indices[f]]))\n",
    "\n",
    "# Plot the feature importances of the forest\n",
    "plt.figure(figsize=(16,6))\n",
    "plt.title(\"Feature importances\")\n",
    "plt.bar(range(X.shape[1]), importances[indices],\n",
    "       color=\"r\", align=\"center\")\n",
    "plt.xticks(range(normalized_X.shape[1]), indices)\n",
    "plt.xlim([-1, normalized_X.shape[1]])\n",
    "plt.show()"
   ]
  },
  {
   "cell_type": "markdown",
   "metadata": {},
   "source": [
    "We need to take it with a grain of salt (especially when we have only a few) because information is often split if features are not independent."
   ]
  },
  {
   "cell_type": "markdown",
   "metadata": {},
   "source": [
    "### How to improve?"
   ]
  },
  {
   "cell_type": "code",
   "execution_count": 42,
   "metadata": {},
   "outputs": [
    {
     "data": {
      "text/plain": [
       "{'bootstrap': True,\n",
       " 'ccp_alpha': 0.0,\n",
       " 'class_weight': None,\n",
       " 'criterion': 'gini',\n",
       " 'max_depth': None,\n",
       " 'max_features': 'auto',\n",
       " 'max_leaf_nodes': None,\n",
       " 'max_samples': None,\n",
       " 'min_impurity_decrease': 0.0,\n",
       " 'min_impurity_split': None,\n",
       " 'min_samples_leaf': 1,\n",
       " 'min_samples_split': 2,\n",
       " 'min_weight_fraction_leaf': 0.0,\n",
       " 'n_estimators': 100,\n",
       " 'n_jobs': None,\n",
       " 'oob_score': False,\n",
       " 'random_state': None,\n",
       " 'verbose': 0,\n",
       " 'warm_start': False}"
      ]
     },
     "execution_count": 42,
     "metadata": {},
     "output_type": "execute_result"
    }
   ],
   "source": [
    "model.get_params()"
   ]
  },
  {
   "cell_type": "markdown",
   "metadata": {},
   "source": [
    "#### Tree Parameters\n",
    "\n",
    "The parameters associated to that are:\n",
    "\n",
    "-  The minimum number of instances in a leaf node;\n",
    "\n",
    "-  The minimum number of instances required in a split node;\n",
    "\n",
    "- The maximum depth of tree.\n",
    "\n",
    "-  The criterion chosen to decide whether a split is \"worth it\", expressed in terms of information gain;\n",
    "\n",
    "\n",
    "#### Randomization Parameters\n",
    "\n",
    "- The number of k < n features that are used in building trees.\n",
    "\n",
    "- The re-sampling (boostrap) of the data set\n",
    "\n",
    "\n",
    "#### Forest Parameters\n",
    "\n",
    "The number of trees in the forest (n_estimators) can be adjusted, with the general understanding that more trees are better, but at some point performance will plateau, so one can find the trade-off between having more trees and lower runtime."
   ]
  },
  {
   "cell_type": "markdown",
   "metadata": {},
   "source": [
    "<b> TASKS (15 minutes) </b> \n",
    "\n",
    "-  Play with your favorite parameters to see if you can beat the benchmark performance above.\n",
    "\n",
    "-  Now do the same thing, but using recall as your scoring method."
   ]
  },
  {
   "cell_type": "code",
   "execution_count": 43,
   "metadata": {},
   "outputs": [
    {
     "data": {
      "text/plain": [
       "(0.8444372852233677, 0.03016955053236227)"
      ]
     },
     "execution_count": 43,
     "metadata": {},
     "output_type": "execute_result"
    }
   ],
   "source": [
    "model = RandomForestClassifier(max_depth=1, \n",
    "                               min_impurity_decrease=0.1, \n",
    "                               min_samples_leaf=10, \n",
    "                               min_samples_split=10,\n",
    "                               n_estimators=100,\n",
    "                               random_state=5\n",
    "                              )\n",
    "\n",
    "# Cross-validation scheme\n",
    "cv = StratifiedKFold(shuffle=True, n_splits=10, random_state=7)\n",
    "\n",
    "# Choose scoring system\n",
    "scores = cross_val_score(model, normalized_X, y, cv=cv, scoring='recall')\n",
    "\n",
    "# Print the scores\n",
    "scores.mean(), scores.std()"
   ]
  },
  {
   "cell_type": "code",
   "execution_count": 44,
   "metadata": {},
   "outputs": [],
   "source": [
    "# Viviana's solution involving a loop\n",
    "cvmethod = StratifiedKFold(n_splits=8, shuffle =True)\n",
    "parameters = {'max_depth':[3,5,8], \\\n",
    "              'max_features': [2,4], \n",
    "              'n_estimators':[10,20,50],\n",
    "              'class_weight':[{1:1},{1:3},{1:5}]}\n",
    "nmodels = np.product([len(el) for el in parameters.values()])"
   ]
  },
  {
   "cell_type": "code",
   "execution_count": 45,
   "metadata": {},
   "outputs": [
    {
     "name": "stdout",
     "output_type": "stream",
     "text": [
      "Fitting 8 folds for each of 54 candidates, totalling 432 fits\n"
     ]
    },
    {
     "name": "stderr",
     "output_type": "stream",
     "text": [
      "[Parallel(n_jobs=4)]: Using backend LokyBackend with 4 concurrent workers.\n",
      "[Parallel(n_jobs=4)]: Done  42 tasks      | elapsed:    3.6s\n",
      "[Parallel(n_jobs=4)]: Done 192 tasks      | elapsed:   12.5s\n",
      "[Parallel(n_jobs=4)]: Done 432 out of 432 | elapsed:   26.2s finished\n"
     ]
    },
    {
     "name": "stdout",
     "output_type": "stream",
     "text": [
      "Best params, best score: 0.9689 {'class_weight': {1: 5}, 'max_depth': 3, 'max_features': 2, 'n_estimators': 50}\n",
      "Time per model (s): 0.1222\n"
     ]
    }
   ],
   "source": [
    "model = GridSearchCV(RandomForestClassifier(), \n",
    "                     parameters, \n",
    "                     cv = cvmethod,\n",
    "                     scoring = 'recall',\n",
    "                     verbose = 1, \n",
    "                     n_jobs = 4\n",
    "                    )\n",
    "start = time.time()\n",
    "model.fit(normalized_X, y)\n",
    "stop = time.time()\n",
    "print('Best params, best score:', \"{:.4f}\".format(model.best_score_), model.best_params_),\n",
    "print('Time per model (s):', \"{:.4f}\".format((stop-start)/float(nmodels*4)))"
   ]
  },
  {
   "cell_type": "markdown",
   "metadata": {},
   "source": [
    "### Ensemble methods 2: Gradient Boosting Models"
   ]
  },
  {
   "cell_type": "markdown",
   "metadata": {},
   "source": [
    "Gradient Boosting models are another ensemble method where weak learners (usually decision stumps) are combined together.\n",
    "\n",
    "Unlike Random Forests, the model is built by <b> adding individual trees in a sequential fashion, </b>\n",
    "but choosing which trees we add to the model in a way that minimizes the current loss function. The \"Gradient\" part refers to the fact that we try to move along the gradient of the objective function (by calculating its numerical derivative) as we add more trees.\n",
    "\n",
    "The parameters depend on the particular implementation.\n",
    "\n",
    "In the sklearn formulation, the parameters of each tree are essentially the same we saw above; additionally we have the \"learning_rate\" parameter, which dictates how much each tree contribute to the final estimator, and the \"subsample\" parameters, which allows one to use a < 1.0 fraction of samples.\n",
    "\n",
    "I liked this blog post about parameter tuning for GBMs:\n",
    "\n",
    "https://www.analyticsvidhya.com/blog/2016/02/complete-guide-parameter-tuning-gradient-boosting-gbm-python/"
   ]
  },
  {
   "cell_type": "markdown",
   "metadata": {},
   "source": [
    "#### We'll do the usual benchmarking with cross_val_score and check differences with RF:"
   ]
  },
  {
   "cell_type": "code",
   "execution_count": 46,
   "metadata": {},
   "outputs": [
    {
     "data": {
      "text/plain": [
       "(0.8506112258953168, 0.02036927777735932)"
      ]
     },
     "execution_count": 46,
     "metadata": {},
     "output_type": "execute_result"
    }
   ],
   "source": [
    "# Setup the gradient boosing model and the cross-validation scheme as normal\n",
    "model2 = GradientBoostingClassifier()\n",
    "cv = StratifiedKFold(n_splits=8, shuffle=True)\n",
    "scores2 = cross_val_score(model2, normalized_X, y, cv=cv, scoring='recall')\n",
    "scores2.mean(), scores2.std()"
   ]
  },
  {
   "cell_type": "markdown",
   "metadata": {},
   "source": [
    "<b> TASKS (10 minutes) </b>\n",
    "\n",
    "-  Use the get_params() method to find out the names and signatures of different parameters, and their default values.\n",
    "\n",
    "-  Play with your favorite parameters to see how much you can improve the benchmark performance above.\n",
    "\n",
    "-  Compare the timings to Random Forests."
   ]
  },
  {
   "cell_type": "code",
   "execution_count": 47,
   "metadata": {},
   "outputs": [
    {
     "data": {
      "text/plain": [
       "{'ccp_alpha': 0.0,\n",
       " 'criterion': 'friedman_mse',\n",
       " 'init': None,\n",
       " 'learning_rate': 0.1,\n",
       " 'loss': 'deviance',\n",
       " 'max_depth': 3,\n",
       " 'max_features': None,\n",
       " 'max_leaf_nodes': None,\n",
       " 'min_impurity_decrease': 0.0,\n",
       " 'min_impurity_split': None,\n",
       " 'min_samples_leaf': 1,\n",
       " 'min_samples_split': 2,\n",
       " 'min_weight_fraction_leaf': 0.0,\n",
       " 'n_estimators': 100,\n",
       " 'n_iter_no_change': None,\n",
       " 'presort': 'deprecated',\n",
       " 'random_state': None,\n",
       " 'subsample': 1.0,\n",
       " 'tol': 0.0001,\n",
       " 'validation_fraction': 0.1,\n",
       " 'verbose': 0,\n",
       " 'warm_start': False}"
      ]
     },
     "execution_count": 47,
     "metadata": {},
     "output_type": "execute_result"
    }
   ],
   "source": [
    "# Look at the parameters of the model\n",
    "model2.get_params()"
   ]
  },
  {
   "cell_type": "code",
   "execution_count": 48,
   "metadata": {},
   "outputs": [
    {
     "name": "stdout",
     "output_type": "stream",
     "text": [
      "Mean: 0.8515754132231406\n",
      "Standard deviation: 0.025852820268509522\n"
     ]
    },
    {
     "data": {
      "text/plain": [
       "{'ccp_alpha': 0.0,\n",
       " 'criterion': 'friedman_mse',\n",
       " 'init': None,\n",
       " 'learning_rate': 0.05,\n",
       " 'loss': 'deviance',\n",
       " 'max_depth': 3,\n",
       " 'max_features': None,\n",
       " 'max_leaf_nodes': None,\n",
       " 'min_impurity_decrease': 0.0,\n",
       " 'min_impurity_split': None,\n",
       " 'min_samples_leaf': 1,\n",
       " 'min_samples_split': 2,\n",
       " 'min_weight_fraction_leaf': 0.0,\n",
       " 'n_estimators': 100,\n",
       " 'n_iter_no_change': None,\n",
       " 'presort': 'deprecated',\n",
       " 'random_state': None,\n",
       " 'subsample': 1.0,\n",
       " 'tol': 0.0001,\n",
       " 'validation_fraction': 0.1,\n",
       " 'verbose': 0,\n",
       " 'warm_start': False}"
      ]
     },
     "execution_count": 48,
     "metadata": {},
     "output_type": "execute_result"
    }
   ],
   "source": [
    "# Mead's solution\n",
    "model2 = GradientBoostingClassifier(max_depth=3, learning_rate=0.05, min_samples_split=2, n_estimators=100)\n",
    "cv = StratifiedKFold(n_splits=8, shuffle=True)\n",
    "scores2 = cross_val_score(model2, normalized_X, y, cv=cv, scoring='recall')\n",
    "print('Mean:', scores2.mean())\n",
    "print('Standard deviation:', scores2.std())\n",
    "model2.get_params()"
   ]
  },
  {
   "cell_type": "code",
   "execution_count": 49,
   "metadata": {},
   "outputs": [],
   "source": [
    "# Viviana's solution involving a loop\n",
    "cvmethod = StratifiedKFold(n_splits=8, shuffle =True)\n",
    "parameters = {'max_depth':[2, 3, 4],\n",
    "              'learning_rate': [0.01, 0.05, 0.1],\n",
    "              'n_estimators':[50, 100, 200],\n",
    "             }\n",
    "nmodels = np.product([len(el) for el in parameters.values()])"
   ]
  },
  {
   "cell_type": "code",
   "execution_count": 50,
   "metadata": {},
   "outputs": [
    {
     "name": "stdout",
     "output_type": "stream",
     "text": [
      "Fitting 8 folds for each of 27 candidates, totalling 216 fits\n"
     ]
    },
    {
     "name": "stderr",
     "output_type": "stream",
     "text": [
      "[Parallel(n_jobs=4)]: Using backend LokyBackend with 4 concurrent workers.\n",
      "[Parallel(n_jobs=4)]: Done  42 tasks      | elapsed:    8.7s\n",
      "[Parallel(n_jobs=4)]: Done 192 tasks      | elapsed:   47.4s\n",
      "[Parallel(n_jobs=4)]: Done 216 out of 216 | elapsed:   55.2s finished\n"
     ]
    },
    {
     "name": "stdout",
     "output_type": "stream",
     "text": [
      "Best params, best score: 0.8557 {'learning_rate': 0.05, 'max_depth': 3, 'n_estimators': 100}\n",
      "Time per model (s): 0.5186\n"
     ]
    }
   ],
   "source": [
    "model = GridSearchCV(GradientBoostingClassifier(), \n",
    "                     parameters,\n",
    "                     cv = cvmethod,\n",
    "                     scoring = 'recall',\n",
    "                     verbose = 1, \n",
    "                     n_jobs = 4,\n",
    "                     return_train_score = True,\n",
    "                    )\n",
    "start = time.time()\n",
    "model.fit(normalized_X, y)\n",
    "stop = time.time()\n",
    "print('Best params, best score:', \"{:.4f}\".format(model.best_score_), model.best_params_),\n",
    "print('Time per model (s):', \"{:.4f}\".format((stop-start)/float(nmodels*4)))"
   ]
  },
  {
   "cell_type": "markdown",
   "metadata": {},
   "source": [
    "### Subtleties in parameter optimization and data processing (we'll see some next week)\n",
    "\n",
    "-  Use cv_results to look at gradients along parameters and build understanding;\n",
    "\n",
    "-  Push the edges of your parameter grid search; \n",
    "\n",
    "-  One needs to do nested cross validation (we'll see next week) to evaluate the generalization error in order to avoid leakage between the parameter optimization and the cross validation procedure. \n",
    "\n",
    "- Technically, standardizing/normalizing data using the entire learning set introduces leakage between train and test set (the test set \"knows\" about the mean and standard deviation of the entire data set). Usually not dramatic, but the correct procedure is to do it within each CV fold (i.e. after separating in train and test), only on the train set, and applying the same transformation to the test set. The model then becomes a pipeline.\n",
    "\n",
    "- Technically, doing feature selection using the entire learning set introduces leakage between train and test set (the model \"picks\" features that give the best results on the test set). The solution is to pick the \"average\" best features within the CV model, which is effectively what happened here. Scores will still need to be evaluated using nested cross validation (next week). In alternative, one can use unsupervised methods, for example pick features with the largest variance; this is ok because it doesn't involve labels."
   ]
  },
  {
   "cell_type": "markdown",
   "metadata": {},
   "source": [
    "### My advice: Define your own evaluation metric \n",
    "\n",
    "This is an example of what we did for this paper (Leung, VA et al 2016), where x0 = 1 - precision and x1 = 1 - recall.\n",
    "\n",
    "<img src=\"Formula_Leung.jpg\" width=\"300\"/>\n"
   ]
  },
  {
   "cell_type": "markdown",
   "metadata": {},
   "source": [
    "#### How to do that in code?"
   ]
  },
  {
   "cell_type": "code",
   "execution_count": 51,
   "metadata": {},
   "outputs": [],
   "source": [
    "from sklearn.metrics import make_scorer"
   ]
  },
  {
   "cell_type": "code",
   "execution_count": 52,
   "metadata": {},
   "outputs": [],
   "source": [
    "def my_loss_func(y, ypred):\n",
    "    return np.log(1+np.abs(y-ypred).max())"
   ]
  },
  {
   "cell_type": "code",
   "execution_count": 53,
   "metadata": {},
   "outputs": [],
   "source": [
    "model = RandomForestClassifier()"
   ]
  },
  {
   "cell_type": "code",
   "execution_count": 54,
   "metadata": {},
   "outputs": [
    {
     "data": {
      "text/plain": [
       "array([-0.69314718, -0.69314718, -0.69314718, -0.69314718, -0.69314718,\n",
       "       -0.69314718, -0.69314718, -0.69314718])"
      ]
     },
     "execution_count": 54,
     "metadata": {},
     "output_type": "execute_result"
    }
   ],
   "source": [
    "cross_val_score(model, normalized_X, y, \n",
    "                cv=cvmethod, \\\n",
    "                scoring=make_scorer(my_loss_func, greater_is_better=False)\n",
    "               )"
   ]
  },
  {
   "cell_type": "markdown",
   "metadata": {},
   "source": [
    "### Summary\n",
    "\n",
    "Take a look at your data before you start building models.\n",
    "\n",
    "Which algorithm is best, and how you will optimize it, really depends on what you are trying to do.\n",
    "\n",
    "Define your own evaluation metric and/or pick the one that works best for your problem and your data."
   ]
  },
  {
   "cell_type": "markdown",
   "metadata": {},
   "source": [
    "### Exercises :) "
   ]
  },
  {
   "cell_type": "markdown",
   "metadata": {},
   "source": [
    "### 1. Try out xgboost (vs sklearn's gradient boosting method)\n",
    "\n",
    "Sometimes knowns as \"regularized\" gradient boosting method, more robust to overfitting.\n",
    "\n",
    "Has more flexibility in defining weak learners, and objective function.\n",
    "\n",
    "Reputation of being very fast.\n",
    "\n",
    "From the same author as the one above:\n",
    "\n",
    "https://www.analyticsvidhya.com/blog/2016/03/complete-guide-parameter-tuning-xgboost-with-codes-python/"
   ]
  },
  {
   "cell_type": "code",
   "execution_count": null,
   "metadata": {},
   "outputs": [],
   "source": [
    "import xgboost"
   ]
  },
  {
   "cell_type": "code",
   "execution_count": null,
   "metadata": {},
   "outputs": [],
   "source": [
    "model = xgboost.XGBClassifier()"
   ]
  },
  {
   "cell_type": "code",
   "execution_count": null,
   "metadata": {},
   "outputs": [],
   "source": [
    "model.get_params()"
   ]
  },
  {
   "cell_type": "markdown",
   "metadata": {},
   "source": [
    "### 2. Try out HistGradientBoostingClassifier \n",
    "\n",
    "(sklearn's newest implementation, inspired by Microsoft's LightGBM. Promises to be super fast\n",
    "on large ( > 10,000) data sets, by turning numerical features into bins to limit the number of possible splits. Requires installing sklearn v 0.21.x).\n",
    "\n"
   ]
  },
  {
   "cell_type": "code",
   "execution_count": null,
   "metadata": {},
   "outputs": [],
   "source": [
    "#This is the starter code\n",
    "\n",
    "# explicitly require this experimental feature\n",
    "from sklearn.experimental import enable_hist_gradient_boosting  # noqa\n",
    "# now you can import normally from ensemble\n",
    "from sklearn.ensemble import HistGradientBoostingClassifier\n"
   ]
  },
  {
   "cell_type": "markdown",
   "metadata": {},
   "source": [
    "### 3. Compare DT, RF, GBM on same data set (either this one, or variable stars).\n",
    "\n",
    "Compare performance of RF, GBM to DT out of the box for the variable star data set. Are ensemble methods effective in reducing overfitting?\n",
    "\n",
    "Note: if you'd like, you can use this handy function \"checktraintest\" that I wrote to evaluate the difference between train and test scores in a \"cross-validate-y\" fashion. The standard deviation helps determine if the difference is statistically significant.\n",
    "\n",
    "In alternative, one can use sklearn \"cross_validate\" function with the option return_train_score = T."
   ]
  },
  {
   "cell_type": "code",
   "execution_count": null,
   "metadata": {},
   "outputs": [],
   "source": [
    "def checktraintest(X, y, model, ntrials =5, test_size = 0.2):\n",
    "    \n",
    "    \"\"\"evaluates the difference between a classifier's train and test scores \n",
    "    in a \"k-fold-y\" fashion. Output means and std to help determine if \n",
    "    the difference is statistically significant. \"\"\"\n",
    "\n",
    "    scores_train = np.zeros(ntrials)\n",
    "    scores_test = np.zeros(ntrials)\n",
    "\n",
    "    for i in range(ntrials):\n",
    "        X_train, X_test, y_train, y_test = \\\n",
    "        train_test_split(X, y, test_size=test_size, random_state=i)\n",
    "        model.fit(X_train, y_train)\n",
    "        pred_test = model.predict(X_test)\n",
    "        pred_train = model.predict(X_train)\n",
    "\n",
    "        scores_test[i] = (metrics.accuracy_score(y_test,pred_test))\n",
    "        scores_train[i] =(metrics.accuracy_score(y_train,pred_train))\n",
    "\n",
    "    print('Training scores '+str(scores_train.mean())+' +- '+str(scores_train.std()))\n",
    "    print('Test scores '+str(scores_test.mean())+' +- '+str(scores_test.std()))"
   ]
  }
 ],
 "metadata": {
  "kernelspec": {
   "display_name": "Python 3",
   "language": "python",
   "name": "python3"
  },
  "language_info": {
   "codemirror_mode": {
    "name": "ipython",
    "version": 3
   },
   "file_extension": ".py",
   "mimetype": "text/x-python",
   "name": "python",
   "nbconvert_exporter": "python",
   "pygments_lexer": "ipython3",
   "version": "3.7.6"
  }
 },
 "nbformat": 4,
 "nbformat_minor": 2
}
